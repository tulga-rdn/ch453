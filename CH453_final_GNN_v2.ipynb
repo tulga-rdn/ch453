{
  "cells": [
    {
      "cell_type": "markdown",
      "metadata": {
        "id": "-rmdtCwhllEz"
      },
      "source": [
        "# **0. Setting Google Drive**"
      ]
    },
    {
      "cell_type": "code",
      "execution_count": null,
      "metadata": {
        "colab": {
          "base_uri": "https://localhost:8080/"
        },
        "id": "ofGvuAWfUAqn",
        "outputId": "b263486a-b0ae-4c3c-9792-13bf9cda2b61"
      },
      "outputs": [
        {
          "name": "stdout",
          "output_type": "stream",
          "text": [
            "Mounted at /content/gdrive\n"
          ]
        }
      ],
      "source": [
        "#Set google drive\n",
        "from google.colab import auth\n",
        "auth.authenticate_user()\n",
        "\n",
        "from google.colab import drive\n",
        "drive.mount('/content/gdrive')"
      ]
    },
    {
      "cell_type": "markdown",
      "metadata": {
        "id": "u7JZjPvll1FO"
      },
      "source": [
        "### ***Do not forget to set your directory name correctly***"
      ]
    },
    {
      "cell_type": "code",
      "execution_count": null,
      "metadata": {
        "colab": {
          "base_uri": "https://localhost:8080/"
        },
        "id": "DZtMNovDlEYV",
        "outputId": "2d2703e0-b92a-48bd-c8c5-40124e525795"
      },
      "outputs": [
        {
          "data": {
            "text/plain": [
              "['train_set.csv',\n",
              " '.ipynb_checkpoints',\n",
              " 'test_set_public.csv',\n",
              " 'v3',\n",
              " 'v4',\n",
              " 'dropout',\n",
              " 'dropout_L2',\n",
              " 'dropout_wo-reg_L2',\n",
              " 'dropout0.5_wo-reg_L2',\n",
              " 'dropout0.5_dimx2_wo-reg_L2',\n",
              " 'test_set_private.csv',\n",
              " 'template',\n",
              " 'test_public_submission.csv',\n",
              " 'test_private_submission.csv',\n",
              " 'test_public_submission_95.csv',\n",
              " 'test_private_submission_95.csv',\n",
              " 'test_public_submission_79.csv',\n",
              " 'test_private_submission_79.csv',\n",
              " 'test_public_submission_58.csv',\n",
              " 'test_private_submission_58.csv']"
            ]
          },
          "execution_count": 2,
          "metadata": {},
          "output_type": "execute_result"
        }
      ],
      "source": [
        "import os\n",
        "dir_name = 'AI_Chem/final'  # path to the folder you made starting from your google drive home directory.\n",
        "if dir_name[0] == '/': dir_name = dir_name[1:]\n",
        "if dir_name[-1] == '/': dir_name = dir_name[:-1]\n",
        "os.chdir(f'/content/gdrive/MyDrive/{dir_name}/')\n",
        "os.listdir(os.getcwd())  # check all the python files are in the directory."
      ]
    },
    {
      "cell_type": "code",
      "execution_count": null,
      "metadata": {
        "colab": {
          "base_uri": "https://localhost:8080/"
        },
        "id": "S2IyeEj4RC4a",
        "outputId": "da9de059-1123-40b8-a308-ff94100488dc"
      },
      "outputs": [
        {
          "name": "stdout",
          "output_type": "stream",
          "text": [
            "Looking in indexes: https://pypi.org/simple, https://us-python.pkg.dev/colab-wheels/public/simple/\n",
            "Collecting rdkit\n",
            "  Downloading rdkit-2022.9.2-cp38-cp38-manylinux_2_17_x86_64.manylinux2014_x86_64.whl (29.3 MB)\n",
            "\u001b[K     |████████████████████████████████| 29.3 MB 91.4 MB/s \n",
            "\u001b[?25hRequirement already satisfied: Pillow in /usr/local/lib/python3.8/dist-packages (from rdkit) (7.1.2)\n",
            "Requirement already satisfied: numpy in /usr/local/lib/python3.8/dist-packages (from rdkit) (1.21.6)\n",
            "Installing collected packages: rdkit\n",
            "Successfully installed rdkit-2022.9.2\n"
          ]
        }
      ],
      "source": [
        "pip install rdkit"
      ]
    },
    {
      "cell_type": "code",
      "execution_count": null,
      "metadata": {
        "id": "nNwlexcpTEv4"
      },
      "outputs": [],
      "source": [
        "import os\n",
        "import torch\n",
        "import torch.nn as nn\n",
        "from torch.utils.data import Dataset, DataLoader\n",
        "from rdkit import Chem\n",
        "from rdkit.Chem.AllChem import GetAdjacencyMatrix\n",
        "from rdkit.Chem.Crippen import MolLogP\n",
        "from functools import reduce # optional\n",
        "from tqdm import tqdm # optional\n",
        "import numpy as np\n"
      ]
    },
    {
      "cell_type": "code",
      "execution_count": null,
      "metadata": {
        "id": "X7wGa9EUosF4"
      },
      "outputs": [],
      "source": [
        "### GPU Setting\n",
        "#os.environ[\"CUDA_VISIBLE_DEVICES\"] = \"0\"\n",
        "#device = torch.device(\"cuda:0\")\n",
        "\n",
        "### CPU Setting\n",
        "device = torch.device(\"cpu\") # use this line if you are running code on CPU"
      ]
    },
    {
      "cell_type": "markdown",
      "metadata": {
        "id": "AQr58xcVnKWo"
      },
      "source": [
        "# **1. Define Dataset**"
      ]
    },
    {
      "cell_type": "code",
      "execution_count": null,
      "metadata": {
        "id": "nQakh04AqwKI"
      },
      "outputs": [],
      "source": [
        "class GNNDataset(Dataset):\n",
        "\n",
        "    def __init__(self, raw_data):\n",
        "        super().__init__()\n",
        "        smi_list = []\n",
        "        pkbhx_list = []\n",
        "\n",
        "        for row in raw_data:\n",
        "          smi_list.append(row[1])\n",
        "          pkbhx_list.append(float(row[2]))\n",
        "\n",
        "        self.smi_list = smi_list\n",
        "        self.pkbhx_list = pkbhx_list\n",
        "        self._set_mol_list()\n",
        "        self._set_atom_list()\n",
        "\n",
        "    def __len__(self):\n",
        "        return len(self.smi_list)\n",
        "\n",
        "    def __getitem__(self, idx):\n",
        "        '''\n",
        "        return a dict of {\"input\": input, \"output\": output, \"adj\": adj, \"num_atom\": num_atom}\n",
        "        where input is a float tensor of atom feature matrix,\n",
        "        output is a float tensor of corresponding logp value,\n",
        "        adj is a float tensor of adjacency matrix, and\n",
        "        num_atom is a float tensor of number of atoms.\n",
        "        use self._get_node_feature_matrix, self._get_adjacency_matrix, and self._get_logp.\n",
        "        '''\n",
        "        sample = dict()\n",
        "        mol = self.mol_list[idx]\n",
        "\n",
        "        input = self._get_node_feature_matrix(mol)\n",
        "        output = np.array([self.pkbhx_list[idx]])\n",
        "        adj = self._get_adjacency_matrix(mol)\n",
        "\n",
        "        sample = {\n",
        "                \"input\": torch.LongTensor(input),\n",
        "                \"output\": torch.Tensor(output),\n",
        "                \"adj\": torch.Tensor(adj),\n",
        "                \"num_atom\": torch.Tensor([mol.GetNumAtoms()])\n",
        "        }\n",
        "        return sample\n",
        "\n",
        "    def _set_mol_list(self):\n",
        "        assert len(self.smi_list) > 0\n",
        "        self.mol_list = [Chem.MolFromSmiles(smi) for smi in self.smi_list]\n",
        "\n",
        "    def _set_atom_list(self, atom_list=None):\n",
        "        assert len(self.mol_list) > 0\n",
        "        if atom_list is not None:\n",
        "            self.atom_list = atom_list\n",
        "        else:\n",
        "            whole_atom = list(reduce(lambda x, y: x | y, \\\n",
        "                    [set([a.GetSymbol() for a in mol.GetAtoms()]) \\\n",
        "                    for mol in self.mol_list]))\n",
        "            self.atom_list = sorted(whole_atom)\n",
        "\n",
        "    def _get_num_atom_feature(self):\n",
        "        assert len(self.atom_list) > 0\n",
        "        return len(self.atom_list)+4\n",
        "\n",
        "    def _get_node_feature_matrix(self, mol):\n",
        "        return np.array([self._get_atom_feature_vector(a) for a in mol.GetAtoms()])\n",
        "\n",
        "    def _get_adjacency_matrix(self, mol):\n",
        "        \"\"\"\n",
        "        return normalized adjacency matrix of a given molecule\n",
        "        use GetAdjacencyMatrix()\n",
        "        \"\"\"\n",
        "        def normalizeAdjacency(adj):\n",
        "            \"\"\"\n",
        "            return a normalized adjacency matrix: D^-1/2 @ (A + I) @ D^-1/2\n",
        "            \"\"\"\n",
        "            assert adj.shape[0] == adj.shape[1]\n",
        "            A = adj + np.eye(adj.shape[0]) # Add self-loop\n",
        "            d = np.sum(A, axis=1) # Degree matrix of (A + I)\n",
        "            d = 1/np.sqrt(d)\n",
        "            D = np.diag(d)\n",
        "            return D @ A @ D\n",
        "        ##########Implement Here!##########\n",
        "        return normalizeAdjacency(GetAdjacencyMatrix(mol))\n",
        "        ###################################\n",
        "\n",
        "    def _get_atom_feature_vector(self, atom):\n",
        "        \"\"\"\n",
        "        return one-hot encoded vector of a given atom\n",
        "        use atom.GetSymbol() and self._get_one_hot_vector()\n",
        "        \"\"\"\n",
        "        ##########Implement Here!##########\n",
        "        sym = self._get_one_hot_vector(self.atom_list.index(atom.GetSymbol()), self._get_num_atom_feature())\n",
        "        val = 1.0*np.array([atom.GetTotalValence()])\n",
        "        n_hydrogen = 1.0*np.array([atom.GetTotalNumHs()])\n",
        "        f_charge = 1.0*np.array([atom.GetFormalCharge()])\n",
        "        if atom.GetIsAromatic():\n",
        "          arom = np.array([1.0,])\n",
        "        else:\n",
        "          arom = np.array([0.0,])\n",
        "\n",
        "        return np.concatenate((sym,val,n_hydrogen,f_charge,arom))\n",
        "        ###################################\n",
        "\n",
        "    def _get_one_hot_vector(self, idx, vec_dim):\n",
        "        return np.eye(vec_dim)[idx]"
      ]
    },
    {
      "cell_type": "code",
      "execution_count": null,
      "metadata": {
        "id": "6n98V324S6A0"
      },
      "outputs": [],
      "source": [
        "def random_splitter(dataset, train_ratio, validation_ratio, test_ratio):\n",
        "    import random\n",
        "    import copy\n",
        "    assert train_ratio + validation_ratio + test_ratio == 1.0\n",
        "    N = len(dataset)\n",
        "    all_idx = list(range(N))\n",
        "    random.shuffle(all_idx)\n",
        "\n",
        "    train_idx = all_idx[:int(train_ratio * N)]\n",
        "    valid_idx = all_idx[int(train_ratio * N):int(validation_ratio * N) \\\n",
        "                        + int(train_ratio * N)]\n",
        "    test_idx = all_idx[int(validation_ratio * N) + int(train_ratio * N):]\n",
        "    train_dataset = copy.deepcopy(dataset)\n",
        "    valid_dataset = copy.deepcopy(dataset)\n",
        "    test_dataset  = copy.deepcopy(dataset)\n",
        "    train_dataset.smi_list = [dataset.smi_list[i] for i in train_idx]\n",
        "    valid_dataset.smi_list = [dataset.smi_list[i] for i in valid_idx]\n",
        "    test_dataset.smi_list =  [dataset.smi_list[i] for i in  test_idx]\n",
        "    return train_dataset, valid_dataset, test_dataset"
      ]
    },
    {
      "cell_type": "code",
      "execution_count": null,
      "metadata": {
        "id": "sEMossR3iv1p"
      },
      "outputs": [],
      "source": [
        "def sample_collate_fn(samples):\n",
        "    '''\n",
        "    Dataloader will make a list of samples with a len(samples) = batch_size.\n",
        "    Collate function should pad all the tensors in every sample at maximum size,\n",
        "    and stack them on a batch dimension.\n",
        "\n",
        "    Example)\n",
        "    if four tensors of shape (3, 7), (2, 7), (6, 7), (4, 7) is given,\n",
        "    collated tensor will have a shape of (4, 6, 7) where 4 is a batch size.\n",
        "    '''\n",
        "    def get_max_size(tensors):\n",
        "        size_list = [tensor.shape for tensor in tensors]\n",
        "        max_size = sorted(size_list, \\\n",
        "                key=lambda x: int(torch.prod(torch.tensor(x))))[-1]\n",
        "        return max_size\n",
        "\n",
        "    def max_padding(tensor, size):\n",
        "        assert tensor.shape[0] <= size[0] and tensor.shape[1] <= size[1]\n",
        "        max_tensor = torch.zeros(*size)\n",
        "        max_tensor[:tensor.shape[0], :tensor.shape[1]] = tensor\n",
        "        return max_tensor\n",
        "\n",
        "    input_list = [sample[\"input\"] for sample in samples]\n",
        "    adj_list = [sample[\"adj\"] for sample in samples]\n",
        "    input_max_size = get_max_size(input_list)\n",
        "    adj_max_size = get_max_size(adj_list)\n",
        "\n",
        "    inputs = torch.stack([max_padding(input, input_max_size) \\\n",
        "            for input in input_list], dim=0)\n",
        "    adjs = torch.stack([max_padding(adj, adj_max_size) \\\n",
        "            for adj in adj_list], dim=0)\n",
        "    outputs = torch.stack([sample[\"output\"] for sample in samples], dim=0)\n",
        "    num_atoms = torch.stack([sample[\"num_atom\"] for sample in samples], dim=0)\n",
        "\n",
        "    sample_batch = {\n",
        "            \"input\": inputs,\n",
        "            \"output\": outputs,\n",
        "            \"adj\": adjs,\n",
        "            \"num_atom\": num_atoms\n",
        "    }\n",
        "    return sample_batch"
      ]
    },
    {
      "cell_type": "markdown",
      "metadata": {
        "id": "uiX7AAGsooRv"
      },
      "source": [
        "# **2. Define Model**"
      ]
    },
    {
      "cell_type": "code",
      "execution_count": null,
      "metadata": {
        "id": "xQGEBa9goVuI"
      },
      "outputs": [],
      "source": [
        "class GNNRegressor(nn.Module):\n",
        "\n",
        "    def __init__(\n",
        "            self,\n",
        "            n_in,\n",
        "            n_hidden1,\n",
        "            n_hidden2,\n",
        "            n_hidden3,\n",
        "            n_gnn_layer\n",
        "            ):\n",
        "        super().__init__()\n",
        "\n",
        "        self.n_in = n_in\n",
        "        self.n_hidden1 = n_hidden1\n",
        "        self.n_hidden2 = n_hidden2\n",
        "        self.n_hidden3 = n_hidden3\n",
        "        self.n_gnn_layer = n_gnn_layer\n",
        "        self.activation = nn.ReLU()\n",
        "\n",
        "        self.embedding = nn.Linear(n_in, 512)\n",
        "        self.gnns = nn.ModuleList([nn.Linear(512, 352), nn.Linear(352,n_hidden2)])\n",
        "        self.dense = nn.Linear(n_hidden2, n_hidden3)\n",
        "        self.fc = nn.ModuleList([nn.Linear(n_hidden3, 352),\n",
        "                                 nn.Linear(352, 192),\n",
        "                                    nn.Linear(192, 640),\n",
        "                                    nn.Linear(640, 320),\n",
        "                                    nn.Linear(320, 320),\n",
        "                                    nn.Linear(320, 768)])\n",
        "        self.dropout = nn.Dropout(0.5)\n",
        "        self.fc_layer = nn.Linear(768, 1)\n",
        "\n",
        "    def sum_readout(self, h):\n",
        "        ##########Implement Here!##########\n",
        "        return h.sum(dim=1)\n",
        "        ###################################\n",
        "\n",
        "    def forward(self, x, adj):\n",
        "        '''\n",
        "        x (torch.Tensor): atom feature matrix [B N F] [batch num_atom num_feature]\n",
        "        adj (torch.Tensor): adjacency matrix [B N N]\n",
        "\n",
        "        1. embed x\n",
        "        2. go through self.gnns for graph convolution (A @ H @ W)\n",
        "        3. go through sum readout\n",
        "        4. go through the self.fc_layer to make a prediction of logp\n",
        "        '''\n",
        "        ##########Implement Here!##########\n",
        "        x = self.embedding(x)\n",
        "        for gnn in self.gnns:\n",
        "          x = gnn(x)\n",
        "          x = torch.matmul(adj, x)\n",
        "          x = self.activation(x)\n",
        "          x = self.dropout(x)\n",
        "        x = x.sum(dim=1)\n",
        "        x = self.dense(x)\n",
        "\n",
        "        for fc in self.fc:\n",
        "          x = fc(x)\n",
        "        return self.fc_layer(x)\n",
        "        ###################################"
      ]
    },
    {
      "cell_type": "markdown",
      "metadata": {
        "id": "1G-GrQMjT1nD"
      },
      "source": [
        "# **3. Hyperparameter Settings**"
      ]
    },
    {
      "cell_type": "code",
      "execution_count": null,
      "metadata": {
        "id": "qZZF_zOWT8IE"
      },
      "outputs": [],
      "source": [
        "########## DO NOT CHANGE ##########\n",
        "NUM_EPOCH = 300\n",
        "LR = 5e-5\n",
        "N_HIDDEN1 = 512\n",
        "N_HIDDEN2 = 352\n",
        "N_HIDDEN3 = 128\n",
        "N_GNN_LAYER = 3\n",
        "BATCH_SIZE = 8\n",
        "DATA_DIR = \"./train_set.csv\"\n",
        "LOSS_FN = nn.MSELoss()\n",
        "N_IN = 20\n",
        "####################################"
      ]
    },
    {
      "cell_type": "markdown",
      "metadata": {
        "id": "1lIpq15QULGr"
      },
      "source": [
        "# **4. Build the Dataset**"
      ]
    },
    {
      "cell_type": "code",
      "execution_count": null,
      "metadata": {
        "id": "NcusVvo8JqOF"
      },
      "outputs": [],
      "source": [
        "import csv"
      ]
    },
    {
      "cell_type": "code",
      "execution_count": null,
      "metadata": {
        "colab": {
          "base_uri": "https://localhost:8080/"
        },
        "id": "KxhEk-grUP1B",
        "outputId": "a7f16f65-a0ca-4cf2-b8c1-55921931d7c0"
      },
      "outputs": [
        {
          "data": {
            "text/plain": [
              "16"
            ]
          },
          "execution_count": 12,
          "metadata": {},
          "output_type": "execute_result"
        }
      ],
      "source": [
        "data_list = []\n",
        "with open('train_set.csv', 'r') as file:\n",
        "    reader = csv.reader(file)\n",
        "    header = next(reader)\n",
        "    for row in reader:\n",
        "        data_list.append(row)\n",
        "\n",
        "dataset = GNNDataset(data_list)\n",
        "train_dataset, valid_dataset, test_dataset = \\\n",
        "        random_splitter(dataset, 1.0, 0.0, 0.0)\n",
        "\n",
        "##########Implement Here!##########\n",
        "dataset._get_num_atom_feature()\n",
        "###################################"
      ]
    },
    {
      "cell_type": "code",
      "execution_count": null,
      "metadata": {
        "colab": {
          "base_uri": "https://localhost:8080/"
        },
        "id": "UK9buZMu201t",
        "outputId": "ccede50b-b7e2-44f8-e776-7a04305dab41"
      },
      "outputs": [
        {
          "data": {
            "text/plain": [
              "['As', 'Br', 'C', 'Cl', 'F', 'I', 'N', 'O', 'P', 'S', 'Se', 'Si']"
            ]
          },
          "execution_count": 14,
          "metadata": {},
          "output_type": "execute_result"
        }
      ],
      "source": [
        "dataset.atom_list"
      ]
    },
    {
      "cell_type": "markdown",
      "metadata": {
        "id": "ZCgQkixaUUal"
      },
      "source": [
        "# **5. Build the DataLoader**"
      ]
    },
    {
      "cell_type": "code",
      "execution_count": null,
      "metadata": {
        "id": "cpiW3R9MVR4m"
      },
      "outputs": [],
      "source": [
        "train_dataloader = DataLoader(train_dataset, batch_size=BATCH_SIZE, \\\n",
        "                              shuffle=True, collate_fn=sample_collate_fn)\n",
        "valid_dataloader = DataLoader(valid_dataset, batch_size=BATCH_SIZE, \\\n",
        "                              shuffle=False, collate_fn=sample_collate_fn)\n",
        "test_dataloader  = DataLoader(test_dataset,  batch_size=BATCH_SIZE, \\\n",
        "                              shuffle=False, collate_fn=sample_collate_fn)\n",
        "tr_N = len(train_dataset)\n",
        "va_N = len(valid_dataset)\n",
        "te_N = len(test_dataset)"
      ]
    },
    {
      "cell_type": "markdown",
      "metadata": {
        "id": "P4-15VkBVoKQ"
      },
      "source": [
        "# **6. Set Model and Optimizer**"
      ]
    },
    {
      "cell_type": "code",
      "execution_count": null,
      "metadata": {
        "id": "l-Hjz9cRVsQ2"
      },
      "outputs": [],
      "source": [
        "model = GNNRegressor(\n",
        "            N_IN,\n",
        "            N_HIDDEN1,\n",
        "            N_HIDDEN2,\n",
        "            N_HIDDEN3,\n",
        "            N_GNN_LAYER\n",
        "        )\n",
        "optimizer = torch.optim.Adam(model.parameters(), lr=LR, weight_decay=5e-4)\n",
        "\n",
        "### GPU Setting\n",
        "model = model.to(device)"
      ]
    },
    {
      "cell_type": "markdown",
      "metadata": {
        "id": "sCnSgK0KV0qZ"
      },
      "source": [
        "# **7. Train with Mini-batches**"
      ]
    },
    {
      "cell_type": "code",
      "execution_count": null,
      "metadata": {
        "id": "iLzXI0GQiJp_"
      },
      "outputs": [],
      "source": [
        "def batch_to_device(batch, device):\n",
        "    for k, v in batch.items():\n",
        "        batch[k] = v.to(device)\n",
        "    return batch"
      ]
    },
    {
      "cell_type": "code",
      "execution_count": null,
      "metadata": {
        "colab": {
          "base_uri": "https://localhost:8080/"
        },
        "id": "TQLVE9w4GOQN",
        "outputId": "f2da7682-f7a1-475c-bc58-8482d827bdaf"
      },
      "outputs": [
        {
          "name": "stderr",
          "output_type": "stream",
          "text": [
            "49it [00:03, 15.09it/s]                        "
          ]
        },
        {
          "name": "stdout",
          "output_type": "stream",
          "text": [
            "\t1th EPOCH --- TRAIN LOSS: 1.2465 BEST EPOCH: 1\n"
          ]
        },
        {
          "name": "stderr",
          "output_type": "stream",
          "text": [
            "\n",
            "49it [00:02, 18.18it/s]                        "
          ]
        },
        {
          "name": "stdout",
          "output_type": "stream",
          "text": [
            "\t2th EPOCH --- TRAIN LOSS: 0.9096 BEST EPOCH: 2\n"
          ]
        },
        {
          "name": "stderr",
          "output_type": "stream",
          "text": [
            "\n",
            "49it [00:01, 37.82it/s]"
          ]
        },
        {
          "name": "stdout",
          "output_type": "stream",
          "text": [
            "\t3th EPOCH --- TRAIN LOSS: 0.8610 BEST EPOCH: 3\n"
          ]
        },
        {
          "name": "stderr",
          "output_type": "stream",
          "text": [
            "\n",
            "49it [00:01, 33.66it/s]                        "
          ]
        },
        {
          "name": "stdout",
          "output_type": "stream",
          "text": [
            "\t4th EPOCH --- TRAIN LOSS: 0.8757 BEST EPOCH: 3\n"
          ]
        },
        {
          "name": "stderr",
          "output_type": "stream",
          "text": [
            "\n",
            "49it [00:01, 37.93it/s]                        "
          ]
        },
        {
          "name": "stdout",
          "output_type": "stream",
          "text": [
            "\t5th EPOCH --- TRAIN LOSS: 0.7609 BEST EPOCH: 5\n"
          ]
        },
        {
          "name": "stderr",
          "output_type": "stream",
          "text": [
            "\n",
            "49it [00:01, 36.52it/s]                        "
          ]
        },
        {
          "name": "stdout",
          "output_type": "stream",
          "text": [
            "\t6th EPOCH --- TRAIN LOSS: 0.7484 BEST EPOCH: 6\n"
          ]
        },
        {
          "name": "stderr",
          "output_type": "stream",
          "text": [
            "\n",
            "49it [00:01, 36.19it/s]                        "
          ]
        },
        {
          "name": "stdout",
          "output_type": "stream",
          "text": [
            "\t7th EPOCH --- TRAIN LOSS: 0.7339 BEST EPOCH: 7\n"
          ]
        },
        {
          "name": "stderr",
          "output_type": "stream",
          "text": [
            "\n",
            "49it [00:01, 37.61it/s]                        "
          ]
        },
        {
          "name": "stdout",
          "output_type": "stream",
          "text": [
            "\t8th EPOCH --- TRAIN LOSS: 0.6933 BEST EPOCH: 8\n"
          ]
        },
        {
          "name": "stderr",
          "output_type": "stream",
          "text": [
            "\n",
            "49it [00:01, 34.88it/s]                        "
          ]
        },
        {
          "name": "stdout",
          "output_type": "stream",
          "text": [
            "\t9th EPOCH --- TRAIN LOSS: 0.6688 BEST EPOCH: 9\n"
          ]
        },
        {
          "name": "stderr",
          "output_type": "stream",
          "text": [
            "\n",
            "49it [00:01, 36.92it/s]"
          ]
        },
        {
          "name": "stdout",
          "output_type": "stream",
          "text": [
            "\t10th EPOCH --- TRAIN LOSS: 0.6598 BEST EPOCH: 10\n"
          ]
        },
        {
          "name": "stderr",
          "output_type": "stream",
          "text": [
            "\n",
            "49it [00:01, 36.62it/s]                        "
          ]
        },
        {
          "name": "stdout",
          "output_type": "stream",
          "text": [
            "\t11th EPOCH --- TRAIN LOSS: 0.6782 BEST EPOCH: 10\n"
          ]
        },
        {
          "name": "stderr",
          "output_type": "stream",
          "text": [
            "\n",
            "49it [00:01, 36.33it/s]                        "
          ]
        },
        {
          "name": "stdout",
          "output_type": "stream",
          "text": [
            "\t12th EPOCH --- TRAIN LOSS: 0.6031 BEST EPOCH: 12\n"
          ]
        },
        {
          "name": "stderr",
          "output_type": "stream",
          "text": [
            "\n",
            "49it [00:01, 35.89it/s]                        "
          ]
        },
        {
          "name": "stdout",
          "output_type": "stream",
          "text": [
            "\t13th EPOCH --- TRAIN LOSS: 0.6575 BEST EPOCH: 12\n"
          ]
        },
        {
          "name": "stderr",
          "output_type": "stream",
          "text": [
            "\n",
            "49it [00:01, 37.55it/s]                        "
          ]
        },
        {
          "name": "stdout",
          "output_type": "stream",
          "text": [
            "\t14th EPOCH --- TRAIN LOSS: 0.5360 BEST EPOCH: 14\n"
          ]
        },
        {
          "name": "stderr",
          "output_type": "stream",
          "text": [
            "\n",
            "49it [00:02, 20.83it/s]"
          ]
        },
        {
          "name": "stdout",
          "output_type": "stream",
          "text": [
            "\t15th EPOCH --- TRAIN LOSS: 0.6331 BEST EPOCH: 14\n"
          ]
        },
        {
          "name": "stderr",
          "output_type": "stream",
          "text": [
            "\n",
            "49it [00:02, 21.88it/s]                        "
          ]
        },
        {
          "name": "stdout",
          "output_type": "stream",
          "text": [
            "\t16th EPOCH --- TRAIN LOSS: 0.5320 BEST EPOCH: 16\n"
          ]
        },
        {
          "name": "stderr",
          "output_type": "stream",
          "text": [
            "\n",
            "49it [00:01, 37.29it/s]                        "
          ]
        },
        {
          "name": "stdout",
          "output_type": "stream",
          "text": [
            "\t17th EPOCH --- TRAIN LOSS: 0.5284 BEST EPOCH: 17\n"
          ]
        },
        {
          "name": "stderr",
          "output_type": "stream",
          "text": [
            "\n",
            "49it [00:01, 37.29it/s]                        "
          ]
        },
        {
          "name": "stdout",
          "output_type": "stream",
          "text": [
            "\t18th EPOCH --- TRAIN LOSS: 0.5875 BEST EPOCH: 17\n"
          ]
        },
        {
          "name": "stderr",
          "output_type": "stream",
          "text": [
            "\n",
            "49it [00:01, 37.22it/s]                        "
          ]
        },
        {
          "name": "stdout",
          "output_type": "stream",
          "text": [
            "\t19th EPOCH --- TRAIN LOSS: 0.5670 BEST EPOCH: 17\n"
          ]
        },
        {
          "name": "stderr",
          "output_type": "stream",
          "text": [
            "\n",
            "49it [00:01, 36.09it/s]                        "
          ]
        },
        {
          "name": "stdout",
          "output_type": "stream",
          "text": [
            "\t20th EPOCH --- TRAIN LOSS: 0.5344 BEST EPOCH: 17\n"
          ]
        },
        {
          "name": "stderr",
          "output_type": "stream",
          "text": [
            "\n",
            "49it [00:01, 37.27it/s]                        "
          ]
        },
        {
          "name": "stdout",
          "output_type": "stream",
          "text": [
            "\t21th EPOCH --- TRAIN LOSS: 0.5164 BEST EPOCH: 21\n"
          ]
        },
        {
          "name": "stderr",
          "output_type": "stream",
          "text": [
            "\n",
            "49it [00:02, 20.95it/s]                        "
          ]
        },
        {
          "name": "stdout",
          "output_type": "stream",
          "text": [
            "\t22th EPOCH --- TRAIN LOSS: 0.5103 BEST EPOCH: 22\n"
          ]
        },
        {
          "name": "stderr",
          "output_type": "stream",
          "text": [
            "\n",
            "49it [00:02, 18.81it/s]                        "
          ]
        },
        {
          "name": "stdout",
          "output_type": "stream",
          "text": [
            "\t23th EPOCH --- TRAIN LOSS: 0.6198 BEST EPOCH: 22\n"
          ]
        },
        {
          "name": "stderr",
          "output_type": "stream",
          "text": [
            "\n",
            "49it [00:01, 32.11it/s]                        "
          ]
        },
        {
          "name": "stdout",
          "output_type": "stream",
          "text": [
            "\t24th EPOCH --- TRAIN LOSS: 0.5539 BEST EPOCH: 22\n"
          ]
        },
        {
          "name": "stderr",
          "output_type": "stream",
          "text": [
            "\n",
            "49it [00:01, 26.28it/s]                        \n"
          ]
        },
        {
          "name": "stdout",
          "output_type": "stream",
          "text": [
            "\t25th EPOCH --- TRAIN LOSS: 0.5005 BEST EPOCH: 25\n"
          ]
        },
        {
          "name": "stderr",
          "output_type": "stream",
          "text": [
            "49it [00:02, 18.96it/s]                        "
          ]
        },
        {
          "name": "stdout",
          "output_type": "stream",
          "text": [
            "\t26th EPOCH --- TRAIN LOSS: 0.5413 BEST EPOCH: 25\n"
          ]
        },
        {
          "name": "stderr",
          "output_type": "stream",
          "text": [
            "\n",
            "49it [00:01, 34.91it/s]                        "
          ]
        },
        {
          "name": "stdout",
          "output_type": "stream",
          "text": [
            "\t27th EPOCH --- TRAIN LOSS: 0.5175 BEST EPOCH: 25\n"
          ]
        },
        {
          "name": "stderr",
          "output_type": "stream",
          "text": [
            "\n",
            "49it [00:01, 30.88it/s]                        "
          ]
        },
        {
          "name": "stdout",
          "output_type": "stream",
          "text": [
            "\t28th EPOCH --- TRAIN LOSS: 0.5257 BEST EPOCH: 25\n"
          ]
        },
        {
          "name": "stderr",
          "output_type": "stream",
          "text": [
            "\n",
            "49it [00:01, 34.55it/s]                        "
          ]
        },
        {
          "name": "stdout",
          "output_type": "stream",
          "text": [
            "\t29th EPOCH --- TRAIN LOSS: 0.4847 BEST EPOCH: 29\n"
          ]
        },
        {
          "name": "stderr",
          "output_type": "stream",
          "text": [
            "\n",
            "49it [00:02, 23.92it/s]                        "
          ]
        },
        {
          "name": "stdout",
          "output_type": "stream",
          "text": [
            "\t30th EPOCH --- TRAIN LOSS: 0.4821 BEST EPOCH: 30\n"
          ]
        },
        {
          "name": "stderr",
          "output_type": "stream",
          "text": [
            "\n",
            "49it [00:01, 33.22it/s]                        "
          ]
        },
        {
          "name": "stdout",
          "output_type": "stream",
          "text": [
            "\t31th EPOCH --- TRAIN LOSS: 0.5093 BEST EPOCH: 30\n"
          ]
        },
        {
          "name": "stderr",
          "output_type": "stream",
          "text": [
            "\n",
            "49it [00:02, 19.62it/s]                        "
          ]
        },
        {
          "name": "stdout",
          "output_type": "stream",
          "text": [
            "\t32th EPOCH --- TRAIN LOSS: 0.4916 BEST EPOCH: 30\n"
          ]
        },
        {
          "name": "stderr",
          "output_type": "stream",
          "text": [
            "\n",
            "49it [00:01, 26.15it/s]                        "
          ]
        },
        {
          "name": "stdout",
          "output_type": "stream",
          "text": [
            "\t33th EPOCH --- TRAIN LOSS: 0.5649 BEST EPOCH: 30\n"
          ]
        },
        {
          "name": "stderr",
          "output_type": "stream",
          "text": [
            "\n",
            "49it [00:02, 22.01it/s]                        "
          ]
        },
        {
          "name": "stdout",
          "output_type": "stream",
          "text": [
            "\t34th EPOCH --- TRAIN LOSS: 0.4779 BEST EPOCH: 34\n"
          ]
        },
        {
          "name": "stderr",
          "output_type": "stream",
          "text": [
            "\n",
            "49it [00:02, 19.79it/s]                        "
          ]
        },
        {
          "name": "stdout",
          "output_type": "stream",
          "text": [
            "\t35th EPOCH --- TRAIN LOSS: 0.5124 BEST EPOCH: 34\n"
          ]
        },
        {
          "name": "stderr",
          "output_type": "stream",
          "text": [
            "\n",
            "49it [00:02, 23.46it/s]                        "
          ]
        },
        {
          "name": "stdout",
          "output_type": "stream",
          "text": [
            "\t36th EPOCH --- TRAIN LOSS: 0.5620 BEST EPOCH: 34\n"
          ]
        },
        {
          "name": "stderr",
          "output_type": "stream",
          "text": [
            "\n",
            "49it [00:02, 23.05it/s]                        "
          ]
        },
        {
          "name": "stdout",
          "output_type": "stream",
          "text": [
            "\t37th EPOCH --- TRAIN LOSS: 0.5290 BEST EPOCH: 34\n"
          ]
        },
        {
          "name": "stderr",
          "output_type": "stream",
          "text": [
            "\n",
            "49it [00:02, 22.38it/s]                        "
          ]
        },
        {
          "name": "stdout",
          "output_type": "stream",
          "text": [
            "\t38th EPOCH --- TRAIN LOSS: 0.5058 BEST EPOCH: 34\n"
          ]
        },
        {
          "name": "stderr",
          "output_type": "stream",
          "text": [
            "\n",
            "49it [00:02, 21.77it/s]                        "
          ]
        },
        {
          "name": "stdout",
          "output_type": "stream",
          "text": [
            "\t39th EPOCH --- TRAIN LOSS: 0.4386 BEST EPOCH: 39\n"
          ]
        },
        {
          "name": "stderr",
          "output_type": "stream",
          "text": [
            "\n",
            "49it [00:02, 19.35it/s]                        "
          ]
        },
        {
          "name": "stdout",
          "output_type": "stream",
          "text": [
            "\t40th EPOCH --- TRAIN LOSS: 0.4722 BEST EPOCH: 39\n"
          ]
        },
        {
          "name": "stderr",
          "output_type": "stream",
          "text": [
            "\n",
            "49it [00:02, 21.27it/s]                        "
          ]
        },
        {
          "name": "stdout",
          "output_type": "stream",
          "text": [
            "\t41th EPOCH --- TRAIN LOSS: 0.4830 BEST EPOCH: 39\n"
          ]
        },
        {
          "name": "stderr",
          "output_type": "stream",
          "text": [
            "\n",
            "49it [00:02, 21.34it/s]                        "
          ]
        },
        {
          "name": "stdout",
          "output_type": "stream",
          "text": [
            "\t42th EPOCH --- TRAIN LOSS: 0.4501 BEST EPOCH: 39\n"
          ]
        },
        {
          "name": "stderr",
          "output_type": "stream",
          "text": [
            "\n",
            "49it [00:02, 20.79it/s]                        "
          ]
        },
        {
          "name": "stdout",
          "output_type": "stream",
          "text": [
            "\t43th EPOCH --- TRAIN LOSS: 0.4705 BEST EPOCH: 39\n"
          ]
        },
        {
          "name": "stderr",
          "output_type": "stream",
          "text": [
            "\n",
            "49it [00:02, 20.80it/s]                        "
          ]
        },
        {
          "name": "stdout",
          "output_type": "stream",
          "text": [
            "\t44th EPOCH --- TRAIN LOSS: 0.4648 BEST EPOCH: 39\n"
          ]
        },
        {
          "name": "stderr",
          "output_type": "stream",
          "text": [
            "\n",
            "49it [00:02, 20.10it/s]                        "
          ]
        },
        {
          "name": "stdout",
          "output_type": "stream",
          "text": [
            "\t45th EPOCH --- TRAIN LOSS: 0.4824 BEST EPOCH: 39\n"
          ]
        },
        {
          "name": "stderr",
          "output_type": "stream",
          "text": [
            "\n",
            "49it [00:02, 20.32it/s]                        "
          ]
        },
        {
          "name": "stdout",
          "output_type": "stream",
          "text": [
            "\t46th EPOCH --- TRAIN LOSS: 0.4590 BEST EPOCH: 39\n"
          ]
        },
        {
          "name": "stderr",
          "output_type": "stream",
          "text": [
            "\n",
            "49it [00:02, 20.95it/s]                        "
          ]
        },
        {
          "name": "stdout",
          "output_type": "stream",
          "text": [
            "\t47th EPOCH --- TRAIN LOSS: 0.5025 BEST EPOCH: 39\n"
          ]
        },
        {
          "name": "stderr",
          "output_type": "stream",
          "text": [
            "\n",
            "49it [00:02, 19.78it/s]"
          ]
        },
        {
          "name": "stdout",
          "output_type": "stream",
          "text": [
            "\t48th EPOCH --- TRAIN LOSS: 0.4717 BEST EPOCH: 39\n"
          ]
        },
        {
          "name": "stderr",
          "output_type": "stream",
          "text": [
            "\n",
            "49it [00:02, 19.71it/s]                        "
          ]
        },
        {
          "name": "stdout",
          "output_type": "stream",
          "text": [
            "\t49th EPOCH --- TRAIN LOSS: 0.4672 BEST EPOCH: 39\n"
          ]
        },
        {
          "name": "stderr",
          "output_type": "stream",
          "text": [
            "\n",
            "49it [00:04, 11.94it/s]"
          ]
        },
        {
          "name": "stdout",
          "output_type": "stream",
          "text": [
            "\t50th EPOCH --- TRAIN LOSS: 0.4585 BEST EPOCH: 39\n"
          ]
        },
        {
          "name": "stderr",
          "output_type": "stream",
          "text": [
            "\n",
            "49it [00:03, 15.18it/s]                        "
          ]
        },
        {
          "name": "stdout",
          "output_type": "stream",
          "text": [
            "\t51th EPOCH --- TRAIN LOSS: 0.4463 BEST EPOCH: 39\n"
          ]
        },
        {
          "name": "stderr",
          "output_type": "stream",
          "text": [
            "\n",
            "49it [00:02, 20.02it/s]                        "
          ]
        },
        {
          "name": "stdout",
          "output_type": "stream",
          "text": [
            "\t52th EPOCH --- TRAIN LOSS: 0.4370 BEST EPOCH: 52\n"
          ]
        },
        {
          "name": "stderr",
          "output_type": "stream",
          "text": [
            "\n",
            "49it [00:02, 18.23it/s]                        "
          ]
        },
        {
          "name": "stdout",
          "output_type": "stream",
          "text": [
            "\t53th EPOCH --- TRAIN LOSS: 0.4314 BEST EPOCH: 53\n"
          ]
        },
        {
          "name": "stderr",
          "output_type": "stream",
          "text": [
            "\n",
            "49it [00:02, 19.38it/s]                        "
          ]
        },
        {
          "name": "stdout",
          "output_type": "stream",
          "text": [
            "\t54th EPOCH --- TRAIN LOSS: 0.4514 BEST EPOCH: 53\n"
          ]
        },
        {
          "name": "stderr",
          "output_type": "stream",
          "text": [
            "\n",
            "49it [00:02, 18.94it/s]                        "
          ]
        },
        {
          "name": "stdout",
          "output_type": "stream",
          "text": [
            "\t55th EPOCH --- TRAIN LOSS: 0.4565 BEST EPOCH: 53\n"
          ]
        },
        {
          "name": "stderr",
          "output_type": "stream",
          "text": [
            "\n",
            "49it [00:02, 18.77it/s]                        "
          ]
        },
        {
          "name": "stdout",
          "output_type": "stream",
          "text": [
            "\t56th EPOCH --- TRAIN LOSS: 0.4243 BEST EPOCH: 56\n"
          ]
        },
        {
          "name": "stderr",
          "output_type": "stream",
          "text": [
            "\n",
            "49it [00:02, 18.60it/s]                        "
          ]
        },
        {
          "name": "stdout",
          "output_type": "stream",
          "text": [
            "\t57th EPOCH --- TRAIN LOSS: 0.4386 BEST EPOCH: 56\n"
          ]
        },
        {
          "name": "stderr",
          "output_type": "stream",
          "text": [
            "\n",
            "49it [00:02, 18.62it/s]                        "
          ]
        },
        {
          "name": "stdout",
          "output_type": "stream",
          "text": [
            "\t58th EPOCH --- TRAIN LOSS: 0.4476 BEST EPOCH: 56\n"
          ]
        },
        {
          "name": "stderr",
          "output_type": "stream",
          "text": [
            "\n",
            "49it [00:02, 17.98it/s]                        "
          ]
        },
        {
          "name": "stdout",
          "output_type": "stream",
          "text": [
            "\t59th EPOCH --- TRAIN LOSS: 0.4113 BEST EPOCH: 59\n"
          ]
        },
        {
          "name": "stderr",
          "output_type": "stream",
          "text": [
            "\n",
            "49it [00:02, 17.82it/s]                        "
          ]
        },
        {
          "name": "stdout",
          "output_type": "stream",
          "text": [
            "\t60th EPOCH --- TRAIN LOSS: 0.4292 BEST EPOCH: 59\n"
          ]
        },
        {
          "name": "stderr",
          "output_type": "stream",
          "text": [
            "\n",
            "49it [00:02, 17.62it/s]                        "
          ]
        },
        {
          "name": "stdout",
          "output_type": "stream",
          "text": [
            "\t61th EPOCH --- TRAIN LOSS: 0.4305 BEST EPOCH: 59\n"
          ]
        },
        {
          "name": "stderr",
          "output_type": "stream",
          "text": [
            "\n",
            "49it [00:02, 17.53it/s]                        "
          ]
        },
        {
          "name": "stdout",
          "output_type": "stream",
          "text": [
            "\t62th EPOCH --- TRAIN LOSS: 0.4183 BEST EPOCH: 59\n"
          ]
        },
        {
          "name": "stderr",
          "output_type": "stream",
          "text": [
            "\n",
            "49it [00:02, 17.24it/s]                        "
          ]
        },
        {
          "name": "stdout",
          "output_type": "stream",
          "text": [
            "\t63th EPOCH --- TRAIN LOSS: 0.4261 BEST EPOCH: 59\n"
          ]
        },
        {
          "name": "stderr",
          "output_type": "stream",
          "text": [
            "\n",
            "49it [00:02, 17.02it/s]                        "
          ]
        },
        {
          "name": "stdout",
          "output_type": "stream",
          "text": [
            "\t64th EPOCH --- TRAIN LOSS: 0.4040 BEST EPOCH: 64\n"
          ]
        },
        {
          "name": "stderr",
          "output_type": "stream",
          "text": [
            "\n",
            "49it [00:02, 16.81it/s]                        "
          ]
        },
        {
          "name": "stdout",
          "output_type": "stream",
          "text": [
            "\t65th EPOCH --- TRAIN LOSS: 0.3922 BEST EPOCH: 65\n"
          ]
        },
        {
          "name": "stderr",
          "output_type": "stream",
          "text": [
            "\n",
            "49it [00:02, 16.87it/s]                        "
          ]
        },
        {
          "name": "stdout",
          "output_type": "stream",
          "text": [
            "\t66th EPOCH --- TRAIN LOSS: 0.4038 BEST EPOCH: 65\n"
          ]
        },
        {
          "name": "stderr",
          "output_type": "stream",
          "text": [
            "\n",
            "49it [00:02, 16.91it/s]                        "
          ]
        },
        {
          "name": "stdout",
          "output_type": "stream",
          "text": [
            "\t67th EPOCH --- TRAIN LOSS: 0.4518 BEST EPOCH: 65\n"
          ]
        },
        {
          "name": "stderr",
          "output_type": "stream",
          "text": [
            "\n",
            "49it [00:02, 17.11it/s]                        "
          ]
        },
        {
          "name": "stdout",
          "output_type": "stream",
          "text": [
            "\t68th EPOCH --- TRAIN LOSS: 0.4115 BEST EPOCH: 65\n"
          ]
        },
        {
          "name": "stderr",
          "output_type": "stream",
          "text": [
            "\n",
            "49it [00:02, 16.46it/s]                        "
          ]
        },
        {
          "name": "stdout",
          "output_type": "stream",
          "text": [
            "\t69th EPOCH --- TRAIN LOSS: 0.3972 BEST EPOCH: 65\n"
          ]
        },
        {
          "name": "stderr",
          "output_type": "stream",
          "text": [
            "\n",
            "49it [00:02, 16.55it/s]                        "
          ]
        },
        {
          "name": "stdout",
          "output_type": "stream",
          "text": [
            "\t70th EPOCH --- TRAIN LOSS: 0.4942 BEST EPOCH: 65\n"
          ]
        },
        {
          "name": "stderr",
          "output_type": "stream",
          "text": [
            "\n",
            "49it [00:02, 16.37it/s]                        "
          ]
        },
        {
          "name": "stdout",
          "output_type": "stream",
          "text": [
            "\t71th EPOCH --- TRAIN LOSS: 0.4079 BEST EPOCH: 65\n"
          ]
        },
        {
          "name": "stderr",
          "output_type": "stream",
          "text": [
            "\n",
            "49it [00:03, 15.96it/s]                        "
          ]
        },
        {
          "name": "stdout",
          "output_type": "stream",
          "text": [
            "\t72th EPOCH --- TRAIN LOSS: 0.4149 BEST EPOCH: 65\n"
          ]
        },
        {
          "name": "stderr",
          "output_type": "stream",
          "text": [
            "\n",
            "49it [00:03, 15.82it/s]                        "
          ]
        },
        {
          "name": "stdout",
          "output_type": "stream",
          "text": [
            "\t73th EPOCH --- TRAIN LOSS: 0.4003 BEST EPOCH: 65\n"
          ]
        },
        {
          "name": "stderr",
          "output_type": "stream",
          "text": [
            "\n",
            "49it [00:03, 15.65it/s]                        "
          ]
        },
        {
          "name": "stdout",
          "output_type": "stream",
          "text": [
            "\t74th EPOCH --- TRAIN LOSS: 0.4276 BEST EPOCH: 65\n"
          ]
        },
        {
          "name": "stderr",
          "output_type": "stream",
          "text": [
            "\n",
            "49it [00:03, 15.51it/s]                        "
          ]
        },
        {
          "name": "stdout",
          "output_type": "stream",
          "text": [
            "\t75th EPOCH --- TRAIN LOSS: 0.3833 BEST EPOCH: 75\n"
          ]
        },
        {
          "name": "stderr",
          "output_type": "stream",
          "text": [
            "\n",
            "49it [00:03, 15.62it/s]                        "
          ]
        },
        {
          "name": "stdout",
          "output_type": "stream",
          "text": [
            "\t76th EPOCH --- TRAIN LOSS: 0.3936 BEST EPOCH: 75\n"
          ]
        },
        {
          "name": "stderr",
          "output_type": "stream",
          "text": [
            "\n",
            "49it [00:03, 15.44it/s]                        "
          ]
        },
        {
          "name": "stdout",
          "output_type": "stream",
          "text": [
            "\t77th EPOCH --- TRAIN LOSS: 0.4072 BEST EPOCH: 75\n"
          ]
        },
        {
          "name": "stderr",
          "output_type": "stream",
          "text": [
            "\n",
            "49it [00:03, 14.91it/s]                        "
          ]
        },
        {
          "name": "stdout",
          "output_type": "stream",
          "text": [
            "\t78th EPOCH --- TRAIN LOSS: 0.4037 BEST EPOCH: 75\n"
          ]
        },
        {
          "name": "stderr",
          "output_type": "stream",
          "text": [
            "\n",
            "49it [00:04, 12.04it/s]                        "
          ]
        },
        {
          "name": "stdout",
          "output_type": "stream",
          "text": [
            "\t79th EPOCH --- TRAIN LOSS: 0.4050 BEST EPOCH: 75\n"
          ]
        },
        {
          "name": "stderr",
          "output_type": "stream",
          "text": [
            "\n",
            "49it [00:03, 14.27it/s]                        "
          ]
        },
        {
          "name": "stdout",
          "output_type": "stream",
          "text": [
            "\t80th EPOCH --- TRAIN LOSS: 0.4691 BEST EPOCH: 75\n"
          ]
        },
        {
          "name": "stderr",
          "output_type": "stream",
          "text": [
            "\n",
            "49it [00:03, 14.61it/s]                        "
          ]
        },
        {
          "name": "stdout",
          "output_type": "stream",
          "text": [
            "\t81th EPOCH --- TRAIN LOSS: 0.4102 BEST EPOCH: 75\n"
          ]
        },
        {
          "name": "stderr",
          "output_type": "stream",
          "text": [
            "\n",
            "49it [00:03, 14.42it/s]                        "
          ]
        },
        {
          "name": "stdout",
          "output_type": "stream",
          "text": [
            "\t82th EPOCH --- TRAIN LOSS: 0.4119 BEST EPOCH: 75\n"
          ]
        },
        {
          "name": "stderr",
          "output_type": "stream",
          "text": [
            "\n",
            "49it [00:03, 14.11it/s]                        "
          ]
        },
        {
          "name": "stdout",
          "output_type": "stream",
          "text": [
            "\t83th EPOCH --- TRAIN LOSS: 0.3983 BEST EPOCH: 75\n"
          ]
        },
        {
          "name": "stderr",
          "output_type": "stream",
          "text": [
            "\n",
            "49it [00:03, 13.09it/s]                        "
          ]
        },
        {
          "name": "stdout",
          "output_type": "stream",
          "text": [
            "\t84th EPOCH --- TRAIN LOSS: 0.3787 BEST EPOCH: 84\n"
          ]
        },
        {
          "name": "stderr",
          "output_type": "stream",
          "text": [
            "\n",
            "49it [00:03, 13.94it/s]                        "
          ]
        },
        {
          "name": "stdout",
          "output_type": "stream",
          "text": [
            "\t85th EPOCH --- TRAIN LOSS: 0.3993 BEST EPOCH: 84\n"
          ]
        },
        {
          "name": "stderr",
          "output_type": "stream",
          "text": [
            "\n",
            "49it [00:03, 14.02it/s]                        "
          ]
        },
        {
          "name": "stdout",
          "output_type": "stream",
          "text": [
            "\t86th EPOCH --- TRAIN LOSS: 0.4148 BEST EPOCH: 84\n"
          ]
        },
        {
          "name": "stderr",
          "output_type": "stream",
          "text": [
            "\n",
            "49it [00:03, 13.00it/s]                        "
          ]
        },
        {
          "name": "stdout",
          "output_type": "stream",
          "text": [
            "\t87th EPOCH --- TRAIN LOSS: 0.4267 BEST EPOCH: 84\n"
          ]
        },
        {
          "name": "stderr",
          "output_type": "stream",
          "text": [
            "\n",
            "49it [00:03, 13.72it/s]                        "
          ]
        },
        {
          "name": "stdout",
          "output_type": "stream",
          "text": [
            "\t88th EPOCH --- TRAIN LOSS: 0.3926 BEST EPOCH: 84\n"
          ]
        },
        {
          "name": "stderr",
          "output_type": "stream",
          "text": [
            "\n",
            "49it [00:03, 13.40it/s]                        "
          ]
        },
        {
          "name": "stdout",
          "output_type": "stream",
          "text": [
            "\t89th EPOCH --- TRAIN LOSS: 0.4092 BEST EPOCH: 84\n"
          ]
        },
        {
          "name": "stderr",
          "output_type": "stream",
          "text": [
            "\n",
            "49it [00:03, 12.80it/s]                        "
          ]
        },
        {
          "name": "stdout",
          "output_type": "stream",
          "text": [
            "\t90th EPOCH --- TRAIN LOSS: 0.3907 BEST EPOCH: 84\n"
          ]
        },
        {
          "name": "stderr",
          "output_type": "stream",
          "text": [
            "\n",
            "49it [00:03, 13.08it/s]                        "
          ]
        },
        {
          "name": "stdout",
          "output_type": "stream",
          "text": [
            "\t91th EPOCH --- TRAIN LOSS: 0.3934 BEST EPOCH: 84\n"
          ]
        },
        {
          "name": "stderr",
          "output_type": "stream",
          "text": [
            "\n",
            "49it [00:03, 12.67it/s]                        "
          ]
        },
        {
          "name": "stdout",
          "output_type": "stream",
          "text": [
            "\t92th EPOCH --- TRAIN LOSS: 0.3735 BEST EPOCH: 92\n"
          ]
        },
        {
          "name": "stderr",
          "output_type": "stream",
          "text": [
            "\n",
            "49it [00:03, 12.95it/s]                        "
          ]
        },
        {
          "name": "stdout",
          "output_type": "stream",
          "text": [
            "\t93th EPOCH --- TRAIN LOSS: 0.3936 BEST EPOCH: 92\n"
          ]
        },
        {
          "name": "stderr",
          "output_type": "stream",
          "text": [
            "\n",
            "49it [00:03, 12.54it/s]                        "
          ]
        },
        {
          "name": "stdout",
          "output_type": "stream",
          "text": [
            "\t94th EPOCH --- TRAIN LOSS: 0.3797 BEST EPOCH: 92\n"
          ]
        },
        {
          "name": "stderr",
          "output_type": "stream",
          "text": [
            "\n",
            "49it [00:03, 12.29it/s]                        "
          ]
        },
        {
          "name": "stdout",
          "output_type": "stream",
          "text": [
            "\t95th EPOCH --- TRAIN LOSS: 0.4157 BEST EPOCH: 92\n"
          ]
        },
        {
          "name": "stderr",
          "output_type": "stream",
          "text": [
            "\n",
            "49it [00:04, 12.14it/s]                        "
          ]
        },
        {
          "name": "stdout",
          "output_type": "stream",
          "text": [
            "\t96th EPOCH --- TRAIN LOSS: 0.4052 BEST EPOCH: 92\n"
          ]
        },
        {
          "name": "stderr",
          "output_type": "stream",
          "text": [
            "\n",
            "49it [00:04, 11.69it/s]                        "
          ]
        },
        {
          "name": "stdout",
          "output_type": "stream",
          "text": [
            "\t97th EPOCH --- TRAIN LOSS: 0.3878 BEST EPOCH: 92\n"
          ]
        },
        {
          "name": "stderr",
          "output_type": "stream",
          "text": [
            "\n",
            "49it [00:04, 11.68it/s]                        "
          ]
        },
        {
          "name": "stdout",
          "output_type": "stream",
          "text": [
            "\t98th EPOCH --- TRAIN LOSS: 0.4134 BEST EPOCH: 92\n"
          ]
        },
        {
          "name": "stderr",
          "output_type": "stream",
          "text": [
            "\n",
            "49it [00:04, 11.53it/s]                        "
          ]
        },
        {
          "name": "stdout",
          "output_type": "stream",
          "text": [
            "\t99th EPOCH --- TRAIN LOSS: 0.3713 BEST EPOCH: 99\n"
          ]
        },
        {
          "name": "stderr",
          "output_type": "stream",
          "text": [
            "\n",
            "49it [00:04, 11.34it/s]                        "
          ]
        },
        {
          "name": "stdout",
          "output_type": "stream",
          "text": [
            "\t100th EPOCH --- TRAIN LOSS: 0.3688 BEST EPOCH: 100\n"
          ]
        },
        {
          "name": "stderr",
          "output_type": "stream",
          "text": [
            "\n",
            "49it [00:04, 11.14it/s]                        "
          ]
        },
        {
          "name": "stdout",
          "output_type": "stream",
          "text": [
            "\t101th EPOCH --- TRAIN LOSS: 0.3801 BEST EPOCH: 100\n"
          ]
        },
        {
          "name": "stderr",
          "output_type": "stream",
          "text": [
            "\n",
            "49it [00:04, 10.95it/s]                        "
          ]
        },
        {
          "name": "stdout",
          "output_type": "stream",
          "text": [
            "\t102th EPOCH --- TRAIN LOSS: 0.3978 BEST EPOCH: 100\n"
          ]
        },
        {
          "name": "stderr",
          "output_type": "stream",
          "text": [
            "\n",
            "49it [00:04, 10.72it/s]                        "
          ]
        },
        {
          "name": "stdout",
          "output_type": "stream",
          "text": [
            "\t103th EPOCH --- TRAIN LOSS: 0.3921 BEST EPOCH: 100\n"
          ]
        },
        {
          "name": "stderr",
          "output_type": "stream",
          "text": [
            "\n",
            "49it [00:04, 10.84it/s]                        "
          ]
        },
        {
          "name": "stdout",
          "output_type": "stream",
          "text": [
            "\t104th EPOCH --- TRAIN LOSS: 0.3646 BEST EPOCH: 104\n"
          ]
        },
        {
          "name": "stderr",
          "output_type": "stream",
          "text": [
            "\n",
            "49it [00:04, 10.80it/s]                        "
          ]
        },
        {
          "name": "stdout",
          "output_type": "stream",
          "text": [
            "\t105th EPOCH --- TRAIN LOSS: 0.3884 BEST EPOCH: 104\n"
          ]
        },
        {
          "name": "stderr",
          "output_type": "stream",
          "text": [
            "\n",
            "49it [00:04, 10.80it/s]                        "
          ]
        },
        {
          "name": "stdout",
          "output_type": "stream",
          "text": [
            "\t106th EPOCH --- TRAIN LOSS: 0.3817 BEST EPOCH: 104\n"
          ]
        },
        {
          "name": "stderr",
          "output_type": "stream",
          "text": [
            "\n",
            "49it [00:04, 10.79it/s]                        "
          ]
        },
        {
          "name": "stdout",
          "output_type": "stream",
          "text": [
            "\t107th EPOCH --- TRAIN LOSS: 0.3631 BEST EPOCH: 107\n"
          ]
        },
        {
          "name": "stderr",
          "output_type": "stream",
          "text": [
            "\n",
            "49it [00:04, 10.78it/s]                        "
          ]
        },
        {
          "name": "stdout",
          "output_type": "stream",
          "text": [
            "\t108th EPOCH --- TRAIN LOSS: 0.3958 BEST EPOCH: 107\n"
          ]
        },
        {
          "name": "stderr",
          "output_type": "stream",
          "text": [
            "\n",
            "49it [00:04, 10.74it/s]                        "
          ]
        },
        {
          "name": "stdout",
          "output_type": "stream",
          "text": [
            "\t109th EPOCH --- TRAIN LOSS: 0.3843 BEST EPOCH: 107\n"
          ]
        },
        {
          "name": "stderr",
          "output_type": "stream",
          "text": [
            "\n",
            "49it [00:04, 10.16it/s]"
          ]
        },
        {
          "name": "stdout",
          "output_type": "stream",
          "text": [
            "\t110th EPOCH --- TRAIN LOSS: 0.3838 BEST EPOCH: 107\n"
          ]
        },
        {
          "name": "stderr",
          "output_type": "stream",
          "text": [
            "\n",
            "49it [00:04, 10.56it/s]                        "
          ]
        },
        {
          "name": "stdout",
          "output_type": "stream",
          "text": [
            "\t111th EPOCH --- TRAIN LOSS: 0.3631 BEST EPOCH: 111\n"
          ]
        },
        {
          "name": "stderr",
          "output_type": "stream",
          "text": [
            "\n",
            "49it [00:04, 10.30it/s]                        "
          ]
        },
        {
          "name": "stdout",
          "output_type": "stream",
          "text": [
            "\t112th EPOCH --- TRAIN LOSS: 0.3883 BEST EPOCH: 111\n"
          ]
        },
        {
          "name": "stderr",
          "output_type": "stream",
          "text": [
            "\n",
            "49it [00:04, 10.22it/s]"
          ]
        },
        {
          "name": "stdout",
          "output_type": "stream",
          "text": [
            "\t113th EPOCH --- TRAIN LOSS: 0.4372 BEST EPOCH: 111\n"
          ]
        },
        {
          "name": "stderr",
          "output_type": "stream",
          "text": [
            "\n",
            "49it [00:04,  9.90it/s]"
          ]
        },
        {
          "name": "stdout",
          "output_type": "stream",
          "text": [
            "\t114th EPOCH --- TRAIN LOSS: 0.4046 BEST EPOCH: 111\n"
          ]
        },
        {
          "name": "stderr",
          "output_type": "stream",
          "text": [
            "\n",
            "49it [00:05,  9.66it/s]"
          ]
        },
        {
          "name": "stdout",
          "output_type": "stream",
          "text": [
            "\t115th EPOCH --- TRAIN LOSS: 0.3791 BEST EPOCH: 111\n"
          ]
        },
        {
          "name": "stderr",
          "output_type": "stream",
          "text": [
            "\n",
            "49it [00:05,  9.52it/s]                        "
          ]
        },
        {
          "name": "stdout",
          "output_type": "stream",
          "text": [
            "\t116th EPOCH --- TRAIN LOSS: 0.3643 BEST EPOCH: 111\n"
          ]
        },
        {
          "name": "stderr",
          "output_type": "stream",
          "text": [
            "\n",
            "49it [00:05,  9.24it/s]                        "
          ]
        },
        {
          "name": "stdout",
          "output_type": "stream",
          "text": [
            "\t117th EPOCH --- TRAIN LOSS: 0.3623 BEST EPOCH: 117\n"
          ]
        },
        {
          "name": "stderr",
          "output_type": "stream",
          "text": [
            "\n",
            "49it [00:05,  9.49it/s]                        "
          ]
        },
        {
          "name": "stdout",
          "output_type": "stream",
          "text": [
            "\t118th EPOCH --- TRAIN LOSS: 0.3679 BEST EPOCH: 117\n"
          ]
        },
        {
          "name": "stderr",
          "output_type": "stream",
          "text": [
            "\n",
            "49it [00:04, 11.77it/s]                        "
          ]
        },
        {
          "name": "stdout",
          "output_type": "stream",
          "text": [
            "\t119th EPOCH --- TRAIN LOSS: 0.3651 BEST EPOCH: 117\n"
          ]
        },
        {
          "name": "stderr",
          "output_type": "stream",
          "text": [
            "\n",
            "49it [00:03, 15.37it/s]                        "
          ]
        },
        {
          "name": "stdout",
          "output_type": "stream",
          "text": [
            "\t120th EPOCH --- TRAIN LOSS: 0.3585 BEST EPOCH: 120\n"
          ]
        },
        {
          "name": "stderr",
          "output_type": "stream",
          "text": [
            "\n",
            "49it [00:03, 16.04it/s]                        "
          ]
        },
        {
          "name": "stdout",
          "output_type": "stream",
          "text": [
            "\t121th EPOCH --- TRAIN LOSS: 0.3591 BEST EPOCH: 120\n"
          ]
        },
        {
          "name": "stderr",
          "output_type": "stream",
          "text": [
            "\n",
            "49it [00:02, 16.37it/s]                        "
          ]
        },
        {
          "name": "stdout",
          "output_type": "stream",
          "text": [
            "\t122th EPOCH --- TRAIN LOSS: 0.3632 BEST EPOCH: 120\n"
          ]
        },
        {
          "name": "stderr",
          "output_type": "stream",
          "text": [
            "\n",
            "49it [00:03, 15.90it/s]                        "
          ]
        },
        {
          "name": "stdout",
          "output_type": "stream",
          "text": [
            "\t123th EPOCH --- TRAIN LOSS: 0.4242 BEST EPOCH: 120\n"
          ]
        },
        {
          "name": "stderr",
          "output_type": "stream",
          "text": [
            "\n",
            "49it [00:03, 12.72it/s]                        "
          ]
        },
        {
          "name": "stdout",
          "output_type": "stream",
          "text": [
            "\t124th EPOCH --- TRAIN LOSS: 0.3627 BEST EPOCH: 120\n"
          ]
        },
        {
          "name": "stderr",
          "output_type": "stream",
          "text": [
            "\n",
            "49it [00:03, 16.01it/s]                        "
          ]
        },
        {
          "name": "stdout",
          "output_type": "stream",
          "text": [
            "\t125th EPOCH --- TRAIN LOSS: 0.3691 BEST EPOCH: 120\n"
          ]
        },
        {
          "name": "stderr",
          "output_type": "stream",
          "text": [
            "\n",
            "49it [00:03, 15.66it/s]                        "
          ]
        },
        {
          "name": "stdout",
          "output_type": "stream",
          "text": [
            "\t126th EPOCH --- TRAIN LOSS: 0.3760 BEST EPOCH: 120\n"
          ]
        },
        {
          "name": "stderr",
          "output_type": "stream",
          "text": [
            "\n",
            "49it [00:03, 14.60it/s]                        "
          ]
        },
        {
          "name": "stdout",
          "output_type": "stream",
          "text": [
            "\t127th EPOCH --- TRAIN LOSS: 0.3687 BEST EPOCH: 120\n"
          ]
        },
        {
          "name": "stderr",
          "output_type": "stream",
          "text": [
            "\n",
            "49it [00:03, 13.29it/s]                        "
          ]
        },
        {
          "name": "stdout",
          "output_type": "stream",
          "text": [
            "\t128th EPOCH --- TRAIN LOSS: 0.3639 BEST EPOCH: 120\n"
          ]
        },
        {
          "name": "stderr",
          "output_type": "stream",
          "text": [
            "\n",
            "49it [00:03, 14.08it/s]                        "
          ]
        },
        {
          "name": "stdout",
          "output_type": "stream",
          "text": [
            "\t129th EPOCH --- TRAIN LOSS: 0.3772 BEST EPOCH: 120\n"
          ]
        },
        {
          "name": "stderr",
          "output_type": "stream",
          "text": [
            "\n",
            "49it [00:03, 14.76it/s]                        "
          ]
        },
        {
          "name": "stdout",
          "output_type": "stream",
          "text": [
            "\t130th EPOCH --- TRAIN LOSS: 0.3521 BEST EPOCH: 130\n"
          ]
        },
        {
          "name": "stderr",
          "output_type": "stream",
          "text": [
            "\n",
            "49it [00:03, 15.12it/s]                        "
          ]
        },
        {
          "name": "stdout",
          "output_type": "stream",
          "text": [
            "\t131th EPOCH --- TRAIN LOSS: 0.3618 BEST EPOCH: 130\n"
          ]
        },
        {
          "name": "stderr",
          "output_type": "stream",
          "text": [
            "\n",
            "49it [00:03, 15.06it/s]                        "
          ]
        },
        {
          "name": "stdout",
          "output_type": "stream",
          "text": [
            "\t132th EPOCH --- TRAIN LOSS: 0.3490 BEST EPOCH: 132\n"
          ]
        },
        {
          "name": "stderr",
          "output_type": "stream",
          "text": [
            "\n",
            "49it [00:03, 15.11it/s]                        "
          ]
        },
        {
          "name": "stdout",
          "output_type": "stream",
          "text": [
            "\t133th EPOCH --- TRAIN LOSS: 0.3607 BEST EPOCH: 132\n"
          ]
        },
        {
          "name": "stderr",
          "output_type": "stream",
          "text": [
            "\n",
            "49it [00:03, 14.90it/s]                        "
          ]
        },
        {
          "name": "stdout",
          "output_type": "stream",
          "text": [
            "\t134th EPOCH --- TRAIN LOSS: 0.3750 BEST EPOCH: 132\n"
          ]
        },
        {
          "name": "stderr",
          "output_type": "stream",
          "text": [
            "\n",
            "49it [00:03, 14.73it/s]                        "
          ]
        },
        {
          "name": "stdout",
          "output_type": "stream",
          "text": [
            "\t135th EPOCH --- TRAIN LOSS: 0.3508 BEST EPOCH: 132\n"
          ]
        },
        {
          "name": "stderr",
          "output_type": "stream",
          "text": [
            "\n",
            "49it [00:03, 14.29it/s]                        "
          ]
        },
        {
          "name": "stdout",
          "output_type": "stream",
          "text": [
            "\t136th EPOCH --- TRAIN LOSS: 0.3547 BEST EPOCH: 132\n"
          ]
        },
        {
          "name": "stderr",
          "output_type": "stream",
          "text": [
            "\n",
            "49it [00:03, 14.38it/s]                        "
          ]
        },
        {
          "name": "stdout",
          "output_type": "stream",
          "text": [
            "\t137th EPOCH --- TRAIN LOSS: 0.3781 BEST EPOCH: 132\n"
          ]
        },
        {
          "name": "stderr",
          "output_type": "stream",
          "text": [
            "\n",
            "49it [00:03, 15.38it/s]                        "
          ]
        },
        {
          "name": "stdout",
          "output_type": "stream",
          "text": [
            "\t138th EPOCH --- TRAIN LOSS: 0.3493 BEST EPOCH: 132\n"
          ]
        },
        {
          "name": "stderr",
          "output_type": "stream",
          "text": [
            "\n",
            "49it [00:03, 15.18it/s]                        "
          ]
        },
        {
          "name": "stdout",
          "output_type": "stream",
          "text": [
            "\t139th EPOCH --- TRAIN LOSS: 0.3835 BEST EPOCH: 132\n"
          ]
        },
        {
          "name": "stderr",
          "output_type": "stream",
          "text": [
            "\n",
            "49it [00:03, 15.07it/s]                        "
          ]
        },
        {
          "name": "stdout",
          "output_type": "stream",
          "text": [
            "\t140th EPOCH --- TRAIN LOSS: 0.3450 BEST EPOCH: 140\n"
          ]
        },
        {
          "name": "stderr",
          "output_type": "stream",
          "text": [
            "\n",
            "49it [00:03, 15.55it/s]                        "
          ]
        },
        {
          "name": "stdout",
          "output_type": "stream",
          "text": [
            "\t141th EPOCH --- TRAIN LOSS: 0.3762 BEST EPOCH: 140\n"
          ]
        },
        {
          "name": "stderr",
          "output_type": "stream",
          "text": [
            "\n",
            "49it [00:03, 15.37it/s]                        "
          ]
        },
        {
          "name": "stdout",
          "output_type": "stream",
          "text": [
            "\t142th EPOCH --- TRAIN LOSS: 0.4147 BEST EPOCH: 140\n"
          ]
        },
        {
          "name": "stderr",
          "output_type": "stream",
          "text": [
            "\n",
            "49it [00:03, 15.49it/s]                        "
          ]
        },
        {
          "name": "stdout",
          "output_type": "stream",
          "text": [
            "\t143th EPOCH --- TRAIN LOSS: 0.3649 BEST EPOCH: 140\n"
          ]
        },
        {
          "name": "stderr",
          "output_type": "stream",
          "text": [
            "\n",
            "49it [00:03, 14.97it/s]                        "
          ]
        },
        {
          "name": "stdout",
          "output_type": "stream",
          "text": [
            "\t144th EPOCH --- TRAIN LOSS: 0.3386 BEST EPOCH: 144\n"
          ]
        },
        {
          "name": "stderr",
          "output_type": "stream",
          "text": [
            "\n",
            "49it [00:03, 14.92it/s]                        "
          ]
        },
        {
          "name": "stdout",
          "output_type": "stream",
          "text": [
            "\t145th EPOCH --- TRAIN LOSS: 0.3554 BEST EPOCH: 144\n"
          ]
        },
        {
          "name": "stderr",
          "output_type": "stream",
          "text": [
            "\n",
            "49it [00:03, 15.11it/s]                        "
          ]
        },
        {
          "name": "stdout",
          "output_type": "stream",
          "text": [
            "\t146th EPOCH --- TRAIN LOSS: 0.3796 BEST EPOCH: 144\n"
          ]
        },
        {
          "name": "stderr",
          "output_type": "stream",
          "text": [
            "\n",
            "49it [00:03, 15.55it/s]                        "
          ]
        },
        {
          "name": "stdout",
          "output_type": "stream",
          "text": [
            "\t147th EPOCH --- TRAIN LOSS: 0.3663 BEST EPOCH: 144\n"
          ]
        },
        {
          "name": "stderr",
          "output_type": "stream",
          "text": [
            "\n",
            "49it [00:03, 15.78it/s]                        "
          ]
        },
        {
          "name": "stdout",
          "output_type": "stream",
          "text": [
            "\t148th EPOCH --- TRAIN LOSS: 0.4021 BEST EPOCH: 144\n"
          ]
        },
        {
          "name": "stderr",
          "output_type": "stream",
          "text": [
            "\n",
            "49it [00:03, 15.61it/s]                        "
          ]
        },
        {
          "name": "stdout",
          "output_type": "stream",
          "text": [
            "\t149th EPOCH --- TRAIN LOSS: 0.3660 BEST EPOCH: 144\n"
          ]
        },
        {
          "name": "stderr",
          "output_type": "stream",
          "text": [
            "\n",
            "49it [00:03, 15.36it/s]                        "
          ]
        },
        {
          "name": "stdout",
          "output_type": "stream",
          "text": [
            "\t150th EPOCH --- TRAIN LOSS: 0.3782 BEST EPOCH: 144\n"
          ]
        },
        {
          "name": "stderr",
          "output_type": "stream",
          "text": [
            "\n",
            "49it [00:03, 15.11it/s]                        "
          ]
        },
        {
          "name": "stdout",
          "output_type": "stream",
          "text": [
            "\t151th EPOCH --- TRAIN LOSS: 0.4045 BEST EPOCH: 144\n"
          ]
        },
        {
          "name": "stderr",
          "output_type": "stream",
          "text": [
            "\n",
            "49it [00:03, 14.94it/s]                        "
          ]
        },
        {
          "name": "stdout",
          "output_type": "stream",
          "text": [
            "\t152th EPOCH --- TRAIN LOSS: 0.3233 BEST EPOCH: 152\n"
          ]
        },
        {
          "name": "stderr",
          "output_type": "stream",
          "text": [
            "\n",
            "49it [00:03, 14.78it/s]                        "
          ]
        },
        {
          "name": "stdout",
          "output_type": "stream",
          "text": [
            "\t153th EPOCH --- TRAIN LOSS: 0.3356 BEST EPOCH: 152\n"
          ]
        },
        {
          "name": "stderr",
          "output_type": "stream",
          "text": [
            "\n",
            "49it [00:03, 14.93it/s]                        "
          ]
        },
        {
          "name": "stdout",
          "output_type": "stream",
          "text": [
            "\t154th EPOCH --- TRAIN LOSS: 0.3457 BEST EPOCH: 152\n"
          ]
        },
        {
          "name": "stderr",
          "output_type": "stream",
          "text": [
            "\n",
            "49it [00:03, 14.63it/s]                        "
          ]
        },
        {
          "name": "stdout",
          "output_type": "stream",
          "text": [
            "\t155th EPOCH --- TRAIN LOSS: 0.3354 BEST EPOCH: 152\n"
          ]
        },
        {
          "name": "stderr",
          "output_type": "stream",
          "text": [
            "\n",
            "49it [00:03, 14.39it/s]                        "
          ]
        },
        {
          "name": "stdout",
          "output_type": "stream",
          "text": [
            "\t156th EPOCH --- TRAIN LOSS: 0.3915 BEST EPOCH: 152\n"
          ]
        },
        {
          "name": "stderr",
          "output_type": "stream",
          "text": [
            "\n",
            "49it [00:03, 14.07it/s]                        "
          ]
        },
        {
          "name": "stdout",
          "output_type": "stream",
          "text": [
            "\t157th EPOCH --- TRAIN LOSS: 0.3348 BEST EPOCH: 152\n"
          ]
        },
        {
          "name": "stderr",
          "output_type": "stream",
          "text": [
            "\n",
            "49it [00:03, 14.24it/s]                        "
          ]
        },
        {
          "name": "stdout",
          "output_type": "stream",
          "text": [
            "\t158th EPOCH --- TRAIN LOSS: 0.3425 BEST EPOCH: 152\n"
          ]
        },
        {
          "name": "stderr",
          "output_type": "stream",
          "text": [
            "\n",
            "49it [00:03, 13.93it/s]                        "
          ]
        },
        {
          "name": "stdout",
          "output_type": "stream",
          "text": [
            "\t159th EPOCH --- TRAIN LOSS: 0.3601 BEST EPOCH: 152\n"
          ]
        },
        {
          "name": "stderr",
          "output_type": "stream",
          "text": [
            "\n",
            "49it [00:03, 13.45it/s]                        "
          ]
        },
        {
          "name": "stdout",
          "output_type": "stream",
          "text": [
            "\t160th EPOCH --- TRAIN LOSS: 0.3405 BEST EPOCH: 152\n"
          ]
        },
        {
          "name": "stderr",
          "output_type": "stream",
          "text": [
            "\n",
            "49it [00:03, 13.32it/s]                        "
          ]
        },
        {
          "name": "stdout",
          "output_type": "stream",
          "text": [
            "\t161th EPOCH --- TRAIN LOSS: 0.3601 BEST EPOCH: 152\n"
          ]
        },
        {
          "name": "stderr",
          "output_type": "stream",
          "text": [
            "\n",
            "49it [00:03, 13.35it/s]                        "
          ]
        },
        {
          "name": "stdout",
          "output_type": "stream",
          "text": [
            "\t162th EPOCH --- TRAIN LOSS: 0.3317 BEST EPOCH: 152\n"
          ]
        },
        {
          "name": "stderr",
          "output_type": "stream",
          "text": [
            "\n",
            "49it [00:03, 13.70it/s]                        "
          ]
        },
        {
          "name": "stdout",
          "output_type": "stream",
          "text": [
            "\t163th EPOCH --- TRAIN LOSS: 0.3513 BEST EPOCH: 152\n"
          ]
        },
        {
          "name": "stderr",
          "output_type": "stream",
          "text": [
            "\n",
            "49it [00:03, 13.93it/s]                        "
          ]
        },
        {
          "name": "stdout",
          "output_type": "stream",
          "text": [
            "\t164th EPOCH --- TRAIN LOSS: 0.3800 BEST EPOCH: 152\n"
          ]
        },
        {
          "name": "stderr",
          "output_type": "stream",
          "text": [
            "\n",
            "49it [00:03, 13.96it/s]                        "
          ]
        },
        {
          "name": "stdout",
          "output_type": "stream",
          "text": [
            "\t165th EPOCH --- TRAIN LOSS: 0.3418 BEST EPOCH: 152\n"
          ]
        },
        {
          "name": "stderr",
          "output_type": "stream",
          "text": [
            "\n",
            "49it [00:03, 12.55it/s]"
          ]
        },
        {
          "name": "stdout",
          "output_type": "stream",
          "text": [
            "\t166th EPOCH --- TRAIN LOSS: 0.3794 BEST EPOCH: 152\n"
          ]
        },
        {
          "name": "stderr",
          "output_type": "stream",
          "text": [
            "\n",
            "49it [00:03, 12.39it/s]                        "
          ]
        },
        {
          "name": "stdout",
          "output_type": "stream",
          "text": [
            "\t167th EPOCH --- TRAIN LOSS: 0.3686 BEST EPOCH: 152\n"
          ]
        },
        {
          "name": "stderr",
          "output_type": "stream",
          "text": [
            "\n",
            "49it [00:03, 12.97it/s]                        "
          ]
        },
        {
          "name": "stdout",
          "output_type": "stream",
          "text": [
            "\t168th EPOCH --- TRAIN LOSS: 0.3225 BEST EPOCH: 168\n"
          ]
        },
        {
          "name": "stderr",
          "output_type": "stream",
          "text": [
            "\n",
            "49it [00:03, 13.05it/s]                        "
          ]
        },
        {
          "name": "stdout",
          "output_type": "stream",
          "text": [
            "\t169th EPOCH --- TRAIN LOSS: 0.3362 BEST EPOCH: 168\n"
          ]
        },
        {
          "name": "stderr",
          "output_type": "stream",
          "text": [
            "\n",
            "49it [00:03, 13.39it/s]                        "
          ]
        },
        {
          "name": "stdout",
          "output_type": "stream",
          "text": [
            "\t170th EPOCH --- TRAIN LOSS: 0.3498 BEST EPOCH: 168\n"
          ]
        },
        {
          "name": "stderr",
          "output_type": "stream",
          "text": [
            "\n",
            "49it [00:03, 13.90it/s]                        "
          ]
        },
        {
          "name": "stdout",
          "output_type": "stream",
          "text": [
            "\t171th EPOCH --- TRAIN LOSS: 0.3628 BEST EPOCH: 168\n"
          ]
        },
        {
          "name": "stderr",
          "output_type": "stream",
          "text": [
            "\n",
            "49it [00:03, 13.57it/s]                        "
          ]
        },
        {
          "name": "stdout",
          "output_type": "stream",
          "text": [
            "\t172th EPOCH --- TRAIN LOSS: 0.3317 BEST EPOCH: 168\n"
          ]
        },
        {
          "name": "stderr",
          "output_type": "stream",
          "text": [
            "\n",
            "49it [00:03, 13.54it/s]                        "
          ]
        },
        {
          "name": "stdout",
          "output_type": "stream",
          "text": [
            "\t173th EPOCH --- TRAIN LOSS: 0.3454 BEST EPOCH: 168\n"
          ]
        },
        {
          "name": "stderr",
          "output_type": "stream",
          "text": [
            "\n",
            "49it [00:03, 13.41it/s]                        "
          ]
        },
        {
          "name": "stdout",
          "output_type": "stream",
          "text": [
            "\t174th EPOCH --- TRAIN LOSS: 0.3233 BEST EPOCH: 168\n"
          ]
        },
        {
          "name": "stderr",
          "output_type": "stream",
          "text": [
            "\n",
            "49it [00:03, 13.07it/s]                        "
          ]
        },
        {
          "name": "stdout",
          "output_type": "stream",
          "text": [
            "\t175th EPOCH --- TRAIN LOSS: 0.3129 BEST EPOCH: 175\n"
          ]
        },
        {
          "name": "stderr",
          "output_type": "stream",
          "text": [
            "\n",
            "49it [00:03, 12.77it/s]                        "
          ]
        },
        {
          "name": "stdout",
          "output_type": "stream",
          "text": [
            "\t176th EPOCH --- TRAIN LOSS: 0.3636 BEST EPOCH: 175\n"
          ]
        },
        {
          "name": "stderr",
          "output_type": "stream",
          "text": [
            "\n",
            "49it [00:04, 11.40it/s]                        "
          ]
        },
        {
          "name": "stdout",
          "output_type": "stream",
          "text": [
            "\t177th EPOCH --- TRAIN LOSS: 0.3720 BEST EPOCH: 175\n"
          ]
        },
        {
          "name": "stderr",
          "output_type": "stream",
          "text": [
            "\n",
            "49it [00:04, 11.04it/s]"
          ]
        },
        {
          "name": "stdout",
          "output_type": "stream",
          "text": [
            "\t178th EPOCH --- TRAIN LOSS: 0.3500 BEST EPOCH: 175\n"
          ]
        },
        {
          "name": "stderr",
          "output_type": "stream",
          "text": [
            "\n",
            "49it [00:03, 12.54it/s]                        "
          ]
        },
        {
          "name": "stdout",
          "output_type": "stream",
          "text": [
            "\t179th EPOCH --- TRAIN LOSS: 0.3525 BEST EPOCH: 175\n"
          ]
        },
        {
          "name": "stderr",
          "output_type": "stream",
          "text": [
            "\n",
            "49it [00:04, 12.24it/s]                        "
          ]
        },
        {
          "name": "stdout",
          "output_type": "stream",
          "text": [
            "\t180th EPOCH --- TRAIN LOSS: 0.3449 BEST EPOCH: 175\n"
          ]
        },
        {
          "name": "stderr",
          "output_type": "stream",
          "text": [
            "\n",
            "49it [00:04, 12.09it/s]                        "
          ]
        },
        {
          "name": "stdout",
          "output_type": "stream",
          "text": [
            "\t181th EPOCH --- TRAIN LOSS: 0.3419 BEST EPOCH: 175\n"
          ]
        },
        {
          "name": "stderr",
          "output_type": "stream",
          "text": [
            "\n",
            "49it [00:04, 11.94it/s]                        "
          ]
        },
        {
          "name": "stdout",
          "output_type": "stream",
          "text": [
            "\t182th EPOCH --- TRAIN LOSS: 0.3124 BEST EPOCH: 182\n"
          ]
        },
        {
          "name": "stderr",
          "output_type": "stream",
          "text": [
            "\n",
            "49it [00:04, 11.80it/s]                        "
          ]
        },
        {
          "name": "stdout",
          "output_type": "stream",
          "text": [
            "\t183th EPOCH --- TRAIN LOSS: 0.3243 BEST EPOCH: 182\n"
          ]
        },
        {
          "name": "stderr",
          "output_type": "stream",
          "text": [
            "\n",
            "49it [00:04, 11.99it/s]                        "
          ]
        },
        {
          "name": "stdout",
          "output_type": "stream",
          "text": [
            "\t184th EPOCH --- TRAIN LOSS: 0.3182 BEST EPOCH: 182\n"
          ]
        },
        {
          "name": "stderr",
          "output_type": "stream",
          "text": [
            "\n",
            "49it [00:04, 12.01it/s]                        "
          ]
        },
        {
          "name": "stdout",
          "output_type": "stream",
          "text": [
            "\t185th EPOCH --- TRAIN LOSS: 0.3291 BEST EPOCH: 182\n"
          ]
        },
        {
          "name": "stderr",
          "output_type": "stream",
          "text": [
            "\n",
            "49it [00:04, 12.24it/s]"
          ]
        },
        {
          "name": "stdout",
          "output_type": "stream",
          "text": [
            "\t186th EPOCH --- TRAIN LOSS: 0.3308 BEST EPOCH: 182\n"
          ]
        },
        {
          "name": "stderr",
          "output_type": "stream",
          "text": [
            "\n",
            "49it [00:04, 12.12it/s]"
          ]
        },
        {
          "name": "stdout",
          "output_type": "stream",
          "text": [
            "\t187th EPOCH --- TRAIN LOSS: 0.3548 BEST EPOCH: 182\n"
          ]
        },
        {
          "name": "stderr",
          "output_type": "stream",
          "text": [
            "\n",
            "49it [00:04, 11.86it/s]                        "
          ]
        },
        {
          "name": "stdout",
          "output_type": "stream",
          "text": [
            "\t188th EPOCH --- TRAIN LOSS: 0.3670 BEST EPOCH: 182\n"
          ]
        },
        {
          "name": "stderr",
          "output_type": "stream",
          "text": [
            "\n",
            "49it [00:04, 11.58it/s]                        "
          ]
        },
        {
          "name": "stdout",
          "output_type": "stream",
          "text": [
            "\t189th EPOCH --- TRAIN LOSS: 0.3236 BEST EPOCH: 182\n"
          ]
        },
        {
          "name": "stderr",
          "output_type": "stream",
          "text": [
            "\n",
            "49it [00:04, 11.54it/s]"
          ]
        },
        {
          "name": "stdout",
          "output_type": "stream",
          "text": [
            "\t190th EPOCH --- TRAIN LOSS: 0.3212 BEST EPOCH: 182\n"
          ]
        },
        {
          "name": "stderr",
          "output_type": "stream",
          "text": [
            "\n",
            "49it [00:04, 11.47it/s]                        "
          ]
        },
        {
          "name": "stdout",
          "output_type": "stream",
          "text": [
            "\t191th EPOCH --- TRAIN LOSS: 0.3631 BEST EPOCH: 182\n"
          ]
        },
        {
          "name": "stderr",
          "output_type": "stream",
          "text": [
            "\n",
            "49it [00:04, 11.41it/s]                        "
          ]
        },
        {
          "name": "stdout",
          "output_type": "stream",
          "text": [
            "\t192th EPOCH --- TRAIN LOSS: 0.3248 BEST EPOCH: 182\n"
          ]
        },
        {
          "name": "stderr",
          "output_type": "stream",
          "text": [
            "\n",
            "49it [00:04, 11.06it/s]"
          ]
        },
        {
          "name": "stdout",
          "output_type": "stream",
          "text": [
            "\t193th EPOCH --- TRAIN LOSS: 0.3521 BEST EPOCH: 182\n"
          ]
        },
        {
          "name": "stderr",
          "output_type": "stream",
          "text": [
            "\n",
            "49it [00:04, 11.21it/s]                        "
          ]
        },
        {
          "name": "stdout",
          "output_type": "stream",
          "text": [
            "\t194th EPOCH --- TRAIN LOSS: 0.3049 BEST EPOCH: 194\n"
          ]
        },
        {
          "name": "stderr",
          "output_type": "stream",
          "text": [
            "\n",
            "49it [00:04, 11.11it/s]"
          ]
        },
        {
          "name": "stdout",
          "output_type": "stream",
          "text": [
            "\t195th EPOCH --- TRAIN LOSS: 0.3363 BEST EPOCH: 194\n"
          ]
        },
        {
          "name": "stderr",
          "output_type": "stream",
          "text": [
            "\n",
            "49it [00:04, 11.11it/s]                        "
          ]
        },
        {
          "name": "stdout",
          "output_type": "stream",
          "text": [
            "\t196th EPOCH --- TRAIN LOSS: 0.3123 BEST EPOCH: 194\n"
          ]
        },
        {
          "name": "stderr",
          "output_type": "stream",
          "text": [
            "\n",
            "49it [00:04, 11.66it/s]                        "
          ]
        },
        {
          "name": "stdout",
          "output_type": "stream",
          "text": [
            "\t197th EPOCH --- TRAIN LOSS: 0.3267 BEST EPOCH: 194\n"
          ]
        },
        {
          "name": "stderr",
          "output_type": "stream",
          "text": [
            "\n",
            "49it [00:04, 11.77it/s]                        "
          ]
        },
        {
          "name": "stdout",
          "output_type": "stream",
          "text": [
            "\t198th EPOCH --- TRAIN LOSS: 0.3485 BEST EPOCH: 194\n"
          ]
        },
        {
          "name": "stderr",
          "output_type": "stream",
          "text": [
            "\n",
            "49it [00:04, 11.71it/s]"
          ]
        },
        {
          "name": "stdout",
          "output_type": "stream",
          "text": [
            "\t199th EPOCH --- TRAIN LOSS: 0.3027 BEST EPOCH: 199\n"
          ]
        },
        {
          "name": "stderr",
          "output_type": "stream",
          "text": [
            "\n",
            "49it [00:04, 11.66it/s]                        "
          ]
        },
        {
          "name": "stdout",
          "output_type": "stream",
          "text": [
            "\t200th EPOCH --- TRAIN LOSS: 0.3192 BEST EPOCH: 199\n"
          ]
        },
        {
          "name": "stderr",
          "output_type": "stream",
          "text": [
            "\n",
            "49it [00:04, 11.35it/s]                        "
          ]
        },
        {
          "name": "stdout",
          "output_type": "stream",
          "text": [
            "\t201th EPOCH --- TRAIN LOSS: 0.3336 BEST EPOCH: 199\n"
          ]
        },
        {
          "name": "stderr",
          "output_type": "stream",
          "text": [
            "\n",
            "49it [00:04, 11.20it/s]                        "
          ]
        },
        {
          "name": "stdout",
          "output_type": "stream",
          "text": [
            "\t202th EPOCH --- TRAIN LOSS: 0.3112 BEST EPOCH: 199\n"
          ]
        },
        {
          "name": "stderr",
          "output_type": "stream",
          "text": [
            "\n",
            "49it [00:04, 11.23it/s]                        "
          ]
        },
        {
          "name": "stdout",
          "output_type": "stream",
          "text": [
            "\t203th EPOCH --- TRAIN LOSS: 0.3107 BEST EPOCH: 199\n"
          ]
        },
        {
          "name": "stderr",
          "output_type": "stream",
          "text": [
            "\n",
            "49it [00:04, 11.01it/s]                        "
          ]
        },
        {
          "name": "stdout",
          "output_type": "stream",
          "text": [
            "\t204th EPOCH --- TRAIN LOSS: 0.3302 BEST EPOCH: 199\n"
          ]
        },
        {
          "name": "stderr",
          "output_type": "stream",
          "text": [
            "\n",
            "49it [00:04, 10.91it/s]                        "
          ]
        },
        {
          "name": "stdout",
          "output_type": "stream",
          "text": [
            "\t205th EPOCH --- TRAIN LOSS: 0.2892 BEST EPOCH: 205\n"
          ]
        },
        {
          "name": "stderr",
          "output_type": "stream",
          "text": [
            "\n",
            "49it [00:04, 10.92it/s]                        "
          ]
        },
        {
          "name": "stdout",
          "output_type": "stream",
          "text": [
            "\t206th EPOCH --- TRAIN LOSS: 0.2943 BEST EPOCH: 205\n"
          ]
        },
        {
          "name": "stderr",
          "output_type": "stream",
          "text": [
            "\n",
            "49it [00:04, 11.10it/s]"
          ]
        },
        {
          "name": "stdout",
          "output_type": "stream",
          "text": [
            "\t207th EPOCH --- TRAIN LOSS: 0.3071 BEST EPOCH: 205\n"
          ]
        },
        {
          "name": "stderr",
          "output_type": "stream",
          "text": [
            "\n",
            "49it [00:04, 10.94it/s]                        "
          ]
        },
        {
          "name": "stdout",
          "output_type": "stream",
          "text": [
            "\t208th EPOCH --- TRAIN LOSS: 0.3181 BEST EPOCH: 205\n"
          ]
        },
        {
          "name": "stderr",
          "output_type": "stream",
          "text": [
            "\n",
            "49it [00:04, 10.95it/s]                        "
          ]
        },
        {
          "name": "stdout",
          "output_type": "stream",
          "text": [
            "\t209th EPOCH --- TRAIN LOSS: 0.3136 BEST EPOCH: 205\n"
          ]
        },
        {
          "name": "stderr",
          "output_type": "stream",
          "text": [
            "\n",
            "49it [00:04, 10.70it/s]"
          ]
        },
        {
          "name": "stdout",
          "output_type": "stream",
          "text": [
            "\t210th EPOCH --- TRAIN LOSS: 0.3143 BEST EPOCH: 205\n"
          ]
        },
        {
          "name": "stderr",
          "output_type": "stream",
          "text": [
            "\n",
            "49it [00:04, 10.76it/s]                        "
          ]
        },
        {
          "name": "stdout",
          "output_type": "stream",
          "text": [
            "\t211th EPOCH --- TRAIN LOSS: 0.3465 BEST EPOCH: 205\n"
          ]
        },
        {
          "name": "stderr",
          "output_type": "stream",
          "text": [
            "\n",
            "49it [00:04, 10.45it/s]"
          ]
        },
        {
          "name": "stdout",
          "output_type": "stream",
          "text": [
            "\t212th EPOCH --- TRAIN LOSS: 0.3006 BEST EPOCH: 205\n"
          ]
        },
        {
          "name": "stderr",
          "output_type": "stream",
          "text": [
            "\n",
            "49it [00:04, 10.29it/s]"
          ]
        },
        {
          "name": "stdout",
          "output_type": "stream",
          "text": [
            "\t213th EPOCH --- TRAIN LOSS: 0.3326 BEST EPOCH: 205\n"
          ]
        },
        {
          "name": "stderr",
          "output_type": "stream",
          "text": [
            "\n",
            "49it [00:04, 10.39it/s]"
          ]
        },
        {
          "name": "stdout",
          "output_type": "stream",
          "text": [
            "\t214th EPOCH --- TRAIN LOSS: 0.3143 BEST EPOCH: 205\n"
          ]
        },
        {
          "name": "stderr",
          "output_type": "stream",
          "text": [
            "\n",
            "49it [00:04, 10.45it/s]"
          ]
        },
        {
          "name": "stdout",
          "output_type": "stream",
          "text": [
            "\t215th EPOCH --- TRAIN LOSS: 0.2808 BEST EPOCH: 215\n"
          ]
        },
        {
          "name": "stderr",
          "output_type": "stream",
          "text": [
            "\n",
            "49it [00:04, 10.99it/s]                        "
          ]
        },
        {
          "name": "stdout",
          "output_type": "stream",
          "text": [
            "\t216th EPOCH --- TRAIN LOSS: 0.3054 BEST EPOCH: 215\n"
          ]
        },
        {
          "name": "stderr",
          "output_type": "stream",
          "text": [
            "\n",
            "49it [00:04, 11.18it/s]                        "
          ]
        },
        {
          "name": "stdout",
          "output_type": "stream",
          "text": [
            "\t217th EPOCH --- TRAIN LOSS: 0.3139 BEST EPOCH: 215\n"
          ]
        },
        {
          "name": "stderr",
          "output_type": "stream",
          "text": [
            "\n",
            "49it [00:04, 10.93it/s]                        "
          ]
        },
        {
          "name": "stdout",
          "output_type": "stream",
          "text": [
            "\t218th EPOCH --- TRAIN LOSS: 0.2768 BEST EPOCH: 218\n"
          ]
        },
        {
          "name": "stderr",
          "output_type": "stream",
          "text": [
            "\n",
            "49it [00:04, 10.50it/s]                        "
          ]
        },
        {
          "name": "stdout",
          "output_type": "stream",
          "text": [
            "\t219th EPOCH --- TRAIN LOSS: 0.2857 BEST EPOCH: 218\n"
          ]
        },
        {
          "name": "stderr",
          "output_type": "stream",
          "text": [
            "\n",
            "49it [00:04,  9.83it/s]                        "
          ]
        },
        {
          "name": "stdout",
          "output_type": "stream",
          "text": [
            "\t220th EPOCH --- TRAIN LOSS: 0.2944 BEST EPOCH: 218\n"
          ]
        },
        {
          "name": "stderr",
          "output_type": "stream",
          "text": [
            "\n",
            "49it [00:05,  9.48it/s]"
          ]
        },
        {
          "name": "stdout",
          "output_type": "stream",
          "text": [
            "\t221th EPOCH --- TRAIN LOSS: 0.2837 BEST EPOCH: 218\n"
          ]
        },
        {
          "name": "stderr",
          "output_type": "stream",
          "text": [
            "\n",
            "49it [00:04, 10.68it/s]                        "
          ]
        },
        {
          "name": "stdout",
          "output_type": "stream",
          "text": [
            "\t222th EPOCH --- TRAIN LOSS: 0.3147 BEST EPOCH: 218\n"
          ]
        },
        {
          "name": "stderr",
          "output_type": "stream",
          "text": [
            "\n",
            "49it [00:04, 10.52it/s]"
          ]
        },
        {
          "name": "stdout",
          "output_type": "stream",
          "text": [
            "\t223th EPOCH --- TRAIN LOSS: 0.2885 BEST EPOCH: 218\n"
          ]
        },
        {
          "name": "stderr",
          "output_type": "stream",
          "text": [
            "\n",
            "49it [00:04, 10.55it/s]                        "
          ]
        },
        {
          "name": "stdout",
          "output_type": "stream",
          "text": [
            "\t224th EPOCH --- TRAIN LOSS: 0.2876 BEST EPOCH: 218\n"
          ]
        },
        {
          "name": "stderr",
          "output_type": "stream",
          "text": [
            "\n",
            "49it [00:04, 10.58it/s]                        "
          ]
        },
        {
          "name": "stdout",
          "output_type": "stream",
          "text": [
            "\t225th EPOCH --- TRAIN LOSS: 0.3005 BEST EPOCH: 218\n"
          ]
        },
        {
          "name": "stderr",
          "output_type": "stream",
          "text": [
            "\n",
            "49it [00:04, 10.64it/s]                        "
          ]
        },
        {
          "name": "stdout",
          "output_type": "stream",
          "text": [
            "\t226th EPOCH --- TRAIN LOSS: 0.2643 BEST EPOCH: 226\n"
          ]
        },
        {
          "name": "stderr",
          "output_type": "stream",
          "text": [
            "\n",
            "49it [00:04, 10.87it/s]"
          ]
        },
        {
          "name": "stdout",
          "output_type": "stream",
          "text": [
            "\t227th EPOCH --- TRAIN LOSS: 0.2949 BEST EPOCH: 226\n"
          ]
        },
        {
          "name": "stderr",
          "output_type": "stream",
          "text": [
            "\n",
            "49it [00:04, 10.82it/s]"
          ]
        },
        {
          "name": "stdout",
          "output_type": "stream",
          "text": [
            "\t228th EPOCH --- TRAIN LOSS: 0.3033 BEST EPOCH: 226\n"
          ]
        },
        {
          "name": "stderr",
          "output_type": "stream",
          "text": [
            "\n",
            "49it [00:04, 10.67it/s]"
          ]
        },
        {
          "name": "stdout",
          "output_type": "stream",
          "text": [
            "\t229th EPOCH --- TRAIN LOSS: 0.3038 BEST EPOCH: 226\n"
          ]
        },
        {
          "name": "stderr",
          "output_type": "stream",
          "text": [
            "\n",
            "49it [00:04, 10.73it/s]                        "
          ]
        },
        {
          "name": "stdout",
          "output_type": "stream",
          "text": [
            "\t230th EPOCH --- TRAIN LOSS: 0.3110 BEST EPOCH: 226\n"
          ]
        },
        {
          "name": "stderr",
          "output_type": "stream",
          "text": [
            "\n",
            "49it [00:04, 10.39it/s]"
          ]
        },
        {
          "name": "stdout",
          "output_type": "stream",
          "text": [
            "\t231th EPOCH --- TRAIN LOSS: 0.3401 BEST EPOCH: 226\n"
          ]
        },
        {
          "name": "stderr",
          "output_type": "stream",
          "text": [
            "\n",
            "49it [00:04, 10.41it/s]                        "
          ]
        },
        {
          "name": "stdout",
          "output_type": "stream",
          "text": [
            "\t232th EPOCH --- TRAIN LOSS: 0.2908 BEST EPOCH: 226\n"
          ]
        },
        {
          "name": "stderr",
          "output_type": "stream",
          "text": [
            "\n",
            "49it [00:04, 10.28it/s]"
          ]
        },
        {
          "name": "stdout",
          "output_type": "stream",
          "text": [
            "\t233th EPOCH --- TRAIN LOSS: 0.2933 BEST EPOCH: 226\n"
          ]
        },
        {
          "name": "stderr",
          "output_type": "stream",
          "text": [
            "\n",
            "49it [00:04, 10.35it/s]                        "
          ]
        },
        {
          "name": "stdout",
          "output_type": "stream",
          "text": [
            "\t234th EPOCH --- TRAIN LOSS: 0.2703 BEST EPOCH: 226\n"
          ]
        },
        {
          "name": "stderr",
          "output_type": "stream",
          "text": [
            "\n",
            "49it [00:04, 10.59it/s]                        "
          ]
        },
        {
          "name": "stdout",
          "output_type": "stream",
          "text": [
            "\t235th EPOCH --- TRAIN LOSS: 0.3040 BEST EPOCH: 226\n"
          ]
        },
        {
          "name": "stderr",
          "output_type": "stream",
          "text": [
            "\n",
            "49it [00:04, 10.58it/s]                        "
          ]
        },
        {
          "name": "stdout",
          "output_type": "stream",
          "text": [
            "\t236th EPOCH --- TRAIN LOSS: 0.3227 BEST EPOCH: 226\n"
          ]
        },
        {
          "name": "stderr",
          "output_type": "stream",
          "text": [
            "\n",
            "49it [00:04, 11.13it/s]                        "
          ]
        },
        {
          "name": "stdout",
          "output_type": "stream",
          "text": [
            "\t237th EPOCH --- TRAIN LOSS: 0.2940 BEST EPOCH: 226\n"
          ]
        },
        {
          "name": "stderr",
          "output_type": "stream",
          "text": [
            "\n",
            "49it [00:04, 11.35it/s]                        "
          ]
        },
        {
          "name": "stdout",
          "output_type": "stream",
          "text": [
            "\t238th EPOCH --- TRAIN LOSS: 0.2817 BEST EPOCH: 226\n"
          ]
        },
        {
          "name": "stderr",
          "output_type": "stream",
          "text": [
            "\n",
            "49it [00:05,  8.24it/s]                        "
          ]
        },
        {
          "name": "stdout",
          "output_type": "stream",
          "text": [
            "\t239th EPOCH --- TRAIN LOSS: 0.2822 BEST EPOCH: 226\n"
          ]
        },
        {
          "name": "stderr",
          "output_type": "stream",
          "text": [
            "\n",
            "49it [00:05,  8.64it/s]                        "
          ]
        },
        {
          "name": "stdout",
          "output_type": "stream",
          "text": [
            "\t240th EPOCH --- TRAIN LOSS: 0.2733 BEST EPOCH: 226\n"
          ]
        },
        {
          "name": "stderr",
          "output_type": "stream",
          "text": [
            "\n",
            "49it [00:04, 12.14it/s]                        "
          ]
        },
        {
          "name": "stdout",
          "output_type": "stream",
          "text": [
            "\t241th EPOCH --- TRAIN LOSS: 0.2582 BEST EPOCH: 241\n"
          ]
        },
        {
          "name": "stderr",
          "output_type": "stream",
          "text": [
            "\n",
            "49it [00:04, 10.73it/s]                        "
          ]
        },
        {
          "name": "stdout",
          "output_type": "stream",
          "text": [
            "\t242th EPOCH --- TRAIN LOSS: 0.2999 BEST EPOCH: 241\n"
          ]
        },
        {
          "name": "stderr",
          "output_type": "stream",
          "text": [
            "\n",
            "49it [00:04, 11.57it/s]                        "
          ]
        },
        {
          "name": "stdout",
          "output_type": "stream",
          "text": [
            "\t243th EPOCH --- TRAIN LOSS: 0.2705 BEST EPOCH: 241\n"
          ]
        },
        {
          "name": "stderr",
          "output_type": "stream",
          "text": [
            "\n",
            "49it [00:04, 10.09it/s]                        "
          ]
        },
        {
          "name": "stdout",
          "output_type": "stream",
          "text": [
            "\t244th EPOCH --- TRAIN LOSS: 0.2950 BEST EPOCH: 241\n"
          ]
        },
        {
          "name": "stderr",
          "output_type": "stream",
          "text": [
            "\n",
            "49it [00:04, 10.76it/s]"
          ]
        },
        {
          "name": "stdout",
          "output_type": "stream",
          "text": [
            "\t245th EPOCH --- TRAIN LOSS: 0.2654 BEST EPOCH: 241\n"
          ]
        },
        {
          "name": "stderr",
          "output_type": "stream",
          "text": [
            "\n",
            "49it [00:04, 11.00it/s]"
          ]
        },
        {
          "name": "stdout",
          "output_type": "stream",
          "text": [
            "\t246th EPOCH --- TRAIN LOSS: 0.2912 BEST EPOCH: 241\n"
          ]
        },
        {
          "name": "stderr",
          "output_type": "stream",
          "text": [
            "\n",
            "49it [00:05,  9.34it/s]                        "
          ]
        },
        {
          "name": "stdout",
          "output_type": "stream",
          "text": [
            "\t247th EPOCH --- TRAIN LOSS: 0.2711 BEST EPOCH: 241\n"
          ]
        },
        {
          "name": "stderr",
          "output_type": "stream",
          "text": [
            "\n",
            "49it [00:04, 11.58it/s]"
          ]
        },
        {
          "name": "stdout",
          "output_type": "stream",
          "text": [
            "\t248th EPOCH --- TRAIN LOSS: 0.2671 BEST EPOCH: 241\n"
          ]
        },
        {
          "name": "stderr",
          "output_type": "stream",
          "text": [
            "\n",
            "49it [00:04, 11.65it/s]                        "
          ]
        },
        {
          "name": "stdout",
          "output_type": "stream",
          "text": [
            "\t249th EPOCH --- TRAIN LOSS: 0.2871 BEST EPOCH: 241\n"
          ]
        },
        {
          "name": "stderr",
          "output_type": "stream",
          "text": [
            "\n",
            "49it [00:04, 11.58it/s]                        "
          ]
        },
        {
          "name": "stdout",
          "output_type": "stream",
          "text": [
            "\t250th EPOCH --- TRAIN LOSS: 0.2600 BEST EPOCH: 241\n"
          ]
        },
        {
          "name": "stderr",
          "output_type": "stream",
          "text": [
            "\n",
            "49it [00:04, 11.30it/s]                        "
          ]
        },
        {
          "name": "stdout",
          "output_type": "stream",
          "text": [
            "\t251th EPOCH --- TRAIN LOSS: 0.2880 BEST EPOCH: 241\n"
          ]
        },
        {
          "name": "stderr",
          "output_type": "stream",
          "text": [
            "\n",
            "49it [00:04, 11.10it/s]                        "
          ]
        },
        {
          "name": "stdout",
          "output_type": "stream",
          "text": [
            "\t252th EPOCH --- TRAIN LOSS: 0.2686 BEST EPOCH: 241\n"
          ]
        },
        {
          "name": "stderr",
          "output_type": "stream",
          "text": [
            "\n",
            "49it [00:04, 11.18it/s]                        "
          ]
        },
        {
          "name": "stdout",
          "output_type": "stream",
          "text": [
            "\t253th EPOCH --- TRAIN LOSS: 0.3066 BEST EPOCH: 241\n"
          ]
        },
        {
          "name": "stderr",
          "output_type": "stream",
          "text": [
            "\n",
            "49it [00:04, 11.06it/s]"
          ]
        },
        {
          "name": "stdout",
          "output_type": "stream",
          "text": [
            "\t254th EPOCH --- TRAIN LOSS: 0.2835 BEST EPOCH: 241\n"
          ]
        },
        {
          "name": "stderr",
          "output_type": "stream",
          "text": [
            "\n",
            "49it [00:04, 11.01it/s]                        "
          ]
        },
        {
          "name": "stdout",
          "output_type": "stream",
          "text": [
            "\t255th EPOCH --- TRAIN LOSS: 0.2569 BEST EPOCH: 255\n"
          ]
        },
        {
          "name": "stderr",
          "output_type": "stream",
          "text": [
            "\n",
            "49it [00:04, 10.99it/s]                        "
          ]
        },
        {
          "name": "stdout",
          "output_type": "stream",
          "text": [
            "\t256th EPOCH --- TRAIN LOSS: 0.2986 BEST EPOCH: 255\n"
          ]
        },
        {
          "name": "stderr",
          "output_type": "stream",
          "text": [
            "\n",
            "49it [00:04, 10.81it/s]"
          ]
        },
        {
          "name": "stdout",
          "output_type": "stream",
          "text": [
            "\t257th EPOCH --- TRAIN LOSS: 0.2630 BEST EPOCH: 255\n"
          ]
        },
        {
          "name": "stderr",
          "output_type": "stream",
          "text": [
            "\n",
            "49it [00:04, 10.74it/s]"
          ]
        },
        {
          "name": "stdout",
          "output_type": "stream",
          "text": [
            "\t258th EPOCH --- TRAIN LOSS: 0.2809 BEST EPOCH: 255\n"
          ]
        },
        {
          "name": "stderr",
          "output_type": "stream",
          "text": [
            "\n",
            "49it [00:04, 10.68it/s]"
          ]
        },
        {
          "name": "stdout",
          "output_type": "stream",
          "text": [
            "\t259th EPOCH --- TRAIN LOSS: 0.2566 BEST EPOCH: 259\n"
          ]
        },
        {
          "name": "stderr",
          "output_type": "stream",
          "text": [
            "\n",
            "49it [00:04, 10.65it/s]                        "
          ]
        },
        {
          "name": "stdout",
          "output_type": "stream",
          "text": [
            "\t260th EPOCH --- TRAIN LOSS: 0.2807 BEST EPOCH: 259\n"
          ]
        },
        {
          "name": "stderr",
          "output_type": "stream",
          "text": [
            "\n",
            "49it [00:05,  8.91it/s]                        "
          ]
        },
        {
          "name": "stdout",
          "output_type": "stream",
          "text": [
            "\t261th EPOCH --- TRAIN LOSS: 0.2660 BEST EPOCH: 259\n"
          ]
        },
        {
          "name": "stderr",
          "output_type": "stream",
          "text": [
            "\n",
            "49it [00:04, 10.43it/s]                        "
          ]
        },
        {
          "name": "stdout",
          "output_type": "stream",
          "text": [
            "\t262th EPOCH --- TRAIN LOSS: 0.3225 BEST EPOCH: 259\n"
          ]
        },
        {
          "name": "stderr",
          "output_type": "stream",
          "text": [
            "\n",
            "49it [00:04,  9.95it/s]"
          ]
        },
        {
          "name": "stdout",
          "output_type": "stream",
          "text": [
            "\t263th EPOCH --- TRAIN LOSS: 0.2608 BEST EPOCH: 259\n"
          ]
        },
        {
          "name": "stderr",
          "output_type": "stream",
          "text": [
            "\n",
            "49it [00:04, 10.54it/s]                        "
          ]
        },
        {
          "name": "stdout",
          "output_type": "stream",
          "text": [
            "\t264th EPOCH --- TRAIN LOSS: 0.2744 BEST EPOCH: 259\n"
          ]
        },
        {
          "name": "stderr",
          "output_type": "stream",
          "text": [
            "\n",
            "49it [00:04, 10.42it/s]                        "
          ]
        },
        {
          "name": "stdout",
          "output_type": "stream",
          "text": [
            "\t265th EPOCH --- TRAIN LOSS: 0.2644 BEST EPOCH: 259\n"
          ]
        },
        {
          "name": "stderr",
          "output_type": "stream",
          "text": [
            "\n",
            "49it [00:05,  9.41it/s]"
          ]
        },
        {
          "name": "stdout",
          "output_type": "stream",
          "text": [
            "\t266th EPOCH --- TRAIN LOSS: 0.2659 BEST EPOCH: 259\n"
          ]
        },
        {
          "name": "stderr",
          "output_type": "stream",
          "text": [
            "\n",
            "49it [00:04, 10.33it/s]"
          ]
        },
        {
          "name": "stdout",
          "output_type": "stream",
          "text": [
            "\t267th EPOCH --- TRAIN LOSS: 0.2636 BEST EPOCH: 259\n"
          ]
        },
        {
          "name": "stderr",
          "output_type": "stream",
          "text": [
            "\n",
            "49it [00:04, 10.18it/s]"
          ]
        },
        {
          "name": "stdout",
          "output_type": "stream",
          "text": [
            "\t268th EPOCH --- TRAIN LOSS: 0.2655 BEST EPOCH: 259\n"
          ]
        },
        {
          "name": "stderr",
          "output_type": "stream",
          "text": [
            "\n",
            "49it [00:04, 10.17it/s]                        "
          ]
        },
        {
          "name": "stdout",
          "output_type": "stream",
          "text": [
            "\t269th EPOCH --- TRAIN LOSS: 0.2746 BEST EPOCH: 259\n"
          ]
        },
        {
          "name": "stderr",
          "output_type": "stream",
          "text": [
            "\n",
            "49it [00:05,  9.77it/s]"
          ]
        },
        {
          "name": "stdout",
          "output_type": "stream",
          "text": [
            "\t270th EPOCH --- TRAIN LOSS: 0.2704 BEST EPOCH: 259\n"
          ]
        },
        {
          "name": "stderr",
          "output_type": "stream",
          "text": [
            "\n",
            "49it [00:04,  9.88it/s]"
          ]
        },
        {
          "name": "stdout",
          "output_type": "stream",
          "text": [
            "\t271th EPOCH --- TRAIN LOSS: 0.2683 BEST EPOCH: 259\n"
          ]
        },
        {
          "name": "stderr",
          "output_type": "stream",
          "text": [
            "\n",
            "49it [00:05,  9.36it/s]                        "
          ]
        },
        {
          "name": "stdout",
          "output_type": "stream",
          "text": [
            "\t272th EPOCH --- TRAIN LOSS: 0.2892 BEST EPOCH: 259\n"
          ]
        },
        {
          "name": "stderr",
          "output_type": "stream",
          "text": [
            "\n",
            "49it [00:06,  7.84it/s]                        "
          ]
        },
        {
          "name": "stdout",
          "output_type": "stream",
          "text": [
            "\t273th EPOCH --- TRAIN LOSS: 0.2683 BEST EPOCH: 259\n"
          ]
        },
        {
          "name": "stderr",
          "output_type": "stream",
          "text": [
            "\n",
            "49it [00:05,  9.51it/s]                        "
          ]
        },
        {
          "name": "stdout",
          "output_type": "stream",
          "text": [
            "\t274th EPOCH --- TRAIN LOSS: 0.2546 BEST EPOCH: 274\n"
          ]
        },
        {
          "name": "stderr",
          "output_type": "stream",
          "text": [
            "\n",
            "49it [00:05,  9.78it/s]"
          ]
        },
        {
          "name": "stdout",
          "output_type": "stream",
          "text": [
            "\t275th EPOCH --- TRAIN LOSS: 0.2360 BEST EPOCH: 275\n"
          ]
        },
        {
          "name": "stderr",
          "output_type": "stream",
          "text": [
            "\n",
            "49it [00:05,  9.72it/s]"
          ]
        },
        {
          "name": "stdout",
          "output_type": "stream",
          "text": [
            "\t276th EPOCH --- TRAIN LOSS: 0.2459 BEST EPOCH: 275\n"
          ]
        },
        {
          "name": "stderr",
          "output_type": "stream",
          "text": [
            "\n",
            "49it [00:04, 10.21it/s]"
          ]
        },
        {
          "name": "stdout",
          "output_type": "stream",
          "text": [
            "\t277th EPOCH --- TRAIN LOSS: 0.2763 BEST EPOCH: 275\n"
          ]
        },
        {
          "name": "stderr",
          "output_type": "stream",
          "text": [
            "\n",
            "49it [00:05,  9.79it/s]                        "
          ]
        },
        {
          "name": "stdout",
          "output_type": "stream",
          "text": [
            "\t278th EPOCH --- TRAIN LOSS: 0.2457 BEST EPOCH: 275\n"
          ]
        },
        {
          "name": "stderr",
          "output_type": "stream",
          "text": [
            "\n",
            "49it [00:05,  8.20it/s]                        "
          ]
        },
        {
          "name": "stdout",
          "output_type": "stream",
          "text": [
            "\t279th EPOCH --- TRAIN LOSS: 0.2615 BEST EPOCH: 275\n"
          ]
        },
        {
          "name": "stderr",
          "output_type": "stream",
          "text": [
            "\n",
            "49it [00:06,  7.12it/s]                        "
          ]
        },
        {
          "name": "stdout",
          "output_type": "stream",
          "text": [
            "\t280th EPOCH --- TRAIN LOSS: 0.2658 BEST EPOCH: 275\n"
          ]
        },
        {
          "name": "stderr",
          "output_type": "stream",
          "text": [
            "\n",
            "49it [00:05,  8.56it/s]                        "
          ]
        },
        {
          "name": "stdout",
          "output_type": "stream",
          "text": [
            "\t281th EPOCH --- TRAIN LOSS: 0.2248 BEST EPOCH: 281\n"
          ]
        },
        {
          "name": "stderr",
          "output_type": "stream",
          "text": [
            "\n",
            "49it [00:05,  8.41it/s]"
          ]
        },
        {
          "name": "stdout",
          "output_type": "stream",
          "text": [
            "\t282th EPOCH --- TRAIN LOSS: 0.2538 BEST EPOCH: 281\n"
          ]
        },
        {
          "name": "stderr",
          "output_type": "stream",
          "text": [
            "\n",
            "49it [00:05,  9.45it/s]"
          ]
        },
        {
          "name": "stdout",
          "output_type": "stream",
          "text": [
            "\t283th EPOCH --- TRAIN LOSS: 0.2603 BEST EPOCH: 281\n"
          ]
        },
        {
          "name": "stderr",
          "output_type": "stream",
          "text": [
            "\n",
            "49it [00:05,  9.49it/s]"
          ]
        },
        {
          "name": "stdout",
          "output_type": "stream",
          "text": [
            "\t284th EPOCH --- TRAIN LOSS: 0.2874 BEST EPOCH: 281\n"
          ]
        },
        {
          "name": "stderr",
          "output_type": "stream",
          "text": [
            "\n",
            "49it [00:05,  9.20it/s]"
          ]
        },
        {
          "name": "stdout",
          "output_type": "stream",
          "text": [
            "\t285th EPOCH --- TRAIN LOSS: 0.2555 BEST EPOCH: 281\n"
          ]
        },
        {
          "name": "stderr",
          "output_type": "stream",
          "text": [
            "\n",
            "49it [00:05,  9.15it/s]                        "
          ]
        },
        {
          "name": "stdout",
          "output_type": "stream",
          "text": [
            "\t286th EPOCH --- TRAIN LOSS: 0.2628 BEST EPOCH: 281\n"
          ]
        },
        {
          "name": "stderr",
          "output_type": "stream",
          "text": [
            "\n",
            "49it [00:05,  9.02it/s]"
          ]
        },
        {
          "name": "stdout",
          "output_type": "stream",
          "text": [
            "\t287th EPOCH --- TRAIN LOSS: 0.2512 BEST EPOCH: 281\n"
          ]
        },
        {
          "name": "stderr",
          "output_type": "stream",
          "text": [
            "\n",
            "49it [00:05,  9.05it/s]                        "
          ]
        },
        {
          "name": "stdout",
          "output_type": "stream",
          "text": [
            "\t288th EPOCH --- TRAIN LOSS: 0.2583 BEST EPOCH: 281\n"
          ]
        },
        {
          "name": "stderr",
          "output_type": "stream",
          "text": [
            "\n",
            "49it [00:05,  8.89it/s]                        "
          ]
        },
        {
          "name": "stdout",
          "output_type": "stream",
          "text": [
            "\t289th EPOCH --- TRAIN LOSS: 0.2434 BEST EPOCH: 281\n"
          ]
        },
        {
          "name": "stderr",
          "output_type": "stream",
          "text": [
            "\n",
            "49it [00:05,  9.06it/s]                        "
          ]
        },
        {
          "name": "stdout",
          "output_type": "stream",
          "text": [
            "\t290th EPOCH --- TRAIN LOSS: 0.2489 BEST EPOCH: 281\n"
          ]
        },
        {
          "name": "stderr",
          "output_type": "stream",
          "text": [
            "\n",
            "49it [00:05,  8.96it/s]                        "
          ]
        },
        {
          "name": "stdout",
          "output_type": "stream",
          "text": [
            "\t291th EPOCH --- TRAIN LOSS: 0.2623 BEST EPOCH: 281\n"
          ]
        },
        {
          "name": "stderr",
          "output_type": "stream",
          "text": [
            "\n",
            "49it [00:05,  9.24it/s]                        "
          ]
        },
        {
          "name": "stdout",
          "output_type": "stream",
          "text": [
            "\t292th EPOCH --- TRAIN LOSS: 0.2474 BEST EPOCH: 281\n"
          ]
        },
        {
          "name": "stderr",
          "output_type": "stream",
          "text": [
            "\n",
            "49it [00:05,  9.17it/s]"
          ]
        },
        {
          "name": "stdout",
          "output_type": "stream",
          "text": [
            "\t293th EPOCH --- TRAIN LOSS: 0.2479 BEST EPOCH: 281\n"
          ]
        },
        {
          "name": "stderr",
          "output_type": "stream",
          "text": [
            "\n",
            "49it [00:05,  9.46it/s]                        "
          ]
        },
        {
          "name": "stdout",
          "output_type": "stream",
          "text": [
            "\t294th EPOCH --- TRAIN LOSS: 0.2591 BEST EPOCH: 281\n"
          ]
        },
        {
          "name": "stderr",
          "output_type": "stream",
          "text": [
            "\n",
            "49it [00:05,  9.46it/s]                        "
          ]
        },
        {
          "name": "stdout",
          "output_type": "stream",
          "text": [
            "\t295th EPOCH --- TRAIN LOSS: 0.2549 BEST EPOCH: 281\n"
          ]
        },
        {
          "name": "stderr",
          "output_type": "stream",
          "text": [
            "\n",
            "49it [00:05,  8.89it/s]                        "
          ]
        },
        {
          "name": "stdout",
          "output_type": "stream",
          "text": [
            "\t296th EPOCH --- TRAIN LOSS: 0.2445 BEST EPOCH: 281\n"
          ]
        },
        {
          "name": "stderr",
          "output_type": "stream",
          "text": [
            "\n",
            "49it [00:05,  8.55it/s]                        "
          ]
        },
        {
          "name": "stdout",
          "output_type": "stream",
          "text": [
            "\t297th EPOCH --- TRAIN LOSS: 0.2933 BEST EPOCH: 281\n"
          ]
        },
        {
          "name": "stderr",
          "output_type": "stream",
          "text": [
            "\n",
            "49it [00:05,  9.50it/s]                        "
          ]
        },
        {
          "name": "stdout",
          "output_type": "stream",
          "text": [
            "\t298th EPOCH --- TRAIN LOSS: 0.2426 BEST EPOCH: 281\n"
          ]
        },
        {
          "name": "stderr",
          "output_type": "stream",
          "text": [
            "\n",
            "49it [00:05,  9.43it/s]                        "
          ]
        },
        {
          "name": "stdout",
          "output_type": "stream",
          "text": [
            "\t299th EPOCH --- TRAIN LOSS: 0.2562 BEST EPOCH: 281\n"
          ]
        },
        {
          "name": "stderr",
          "output_type": "stream",
          "text": [
            "\n",
            "49it [00:05,  9.23it/s]                        "
          ]
        },
        {
          "name": "stdout",
          "output_type": "stream",
          "text": [
            "\t300th EPOCH --- TRAIN LOSS: 0.2329 BEST EPOCH: 281\n"
          ]
        },
        {
          "name": "stderr",
          "output_type": "stream",
          "text": [
            "\n"
          ]
        }
      ],
      "source": [
        "save_dir = \"./dropout0.5_l2big_wo-reg_L2/\"\n",
        "if not os.path.exists(save_dir):\n",
        "    os.mkdir(save_dir)\n",
        "\n",
        "train_loss_history, valid_loss_history = [], []\n",
        "best_loss = 1e6\n",
        "for i in range(1, NUM_EPOCH + 1):\n",
        "\n",
        "    model.train()\n",
        "    train_batch_losses = []\n",
        "    for batch_idx, batch in tqdm(enumerate(train_dataloader), total=tr_N // BATCH_SIZE):\n",
        "        batch = batch_to_device(batch, device)\n",
        "        x_batch = batch[\"input\"].float()\n",
        "        y_batch = batch[\"output\"].float()\n",
        "        adj_batch = batch[\"adj\"].float()\n",
        "\n",
        "        y_pred = model(x_batch, adj_batch)\n",
        "\n",
        "        loss = LOSS_FN(y_pred, y_batch)\n",
        "        train_batch_losses.append(loss.data.cpu().numpy())\n",
        "\n",
        "        optimizer.zero_grad()\n",
        "        loss.backward()\n",
        "        optimizer.step()\n",
        "\n",
        "    train_avg_loss = np.mean(np.array(train_batch_losses))\n",
        "    train_loss_history.append(train_avg_loss)\n",
        "\n",
        "    if train_avg_loss < best_loss:\n",
        "        best_epoch = i\n",
        "        best_loss = train_avg_loss\n",
        "\n",
        "    print(f\"\\t{i}th EPOCH --- TRAIN LOSS: {train_avg_loss:.4f} BEST EPOCH: {best_epoch}\", flush=True)\n",
        "\n",
        "    torch.save(model.state_dict(), os.path.join(save_dir, f\"save_{i}.pt\"))"
      ]
    },
    {
      "cell_type": "markdown",
      "metadata": {
        "id": "60JYx5BPWYVR"
      },
      "source": [
        "# **8. Plot the Loss Histories**"
      ]
    },
    {
      "cell_type": "code",
      "execution_count": null,
      "metadata": {
        "colab": {
          "base_uri": "https://localhost:8080/",
          "height": 295
        },
        "id": "otvjX2J87EiA",
        "outputId": "a8cab988-7cec-4e83-cd56-81680229d200"
      },
      "outputs": [
        {
          "data": {
            "image/png": "[encoded data removed]",
            "text/plain": [
              "<Figure size 432x288 with 1 Axes>"
            ]
          },
          "metadata": {
            "needs_background": "light"
          },
          "output_type": "display_data"
        }
      ],
      "source": [
        "import matplotlib.pyplot as plt\n",
        "x_axis = np.arange(NUM_EPOCH)\n",
        "fig, ax = plt.subplots()\n",
        "ax.plot(x_axis, train_loss_history, label='train loss')\n",
        "#ax.plot(x_axis, valid_loss_history, label='validation loss')\n",
        "ax.set_xlabel('Num epoch')\n",
        "ax.set_ylabel('Loss')\n",
        "ax.set_title('Loss History')\n",
        "ax.legend()\n",
        "fig.show()"
      ]
    },
    {
      "cell_type": "code",
      "execution_count": null,
      "metadata": {
        "id": "CS_GSCEMEVxq"
      },
      "outputs": [],
      "source": [
        "sub_list = []\n",
        "with open('test_set_public.csv', 'r') as file:\n",
        "    reader = csv.reader(file)\n",
        "    header = next(reader)\n",
        "    for row in reader:\n",
        "        sub_list.append(row)"
      ]
    },
    {
      "cell_type": "code",
      "execution_count": null,
      "metadata": {
        "id": "fINBwY6CEZry"
      },
      "outputs": [],
      "source": [
        "class testdataset(Dataset):\n",
        "\n",
        "    def __init__(self, raw_data):\n",
        "        super().__init__()\n",
        "        smi_list = []\n",
        "\n",
        "        for row in raw_data:\n",
        "          smi_list.append(row[1])\n",
        "\n",
        "        self.smi_list = smi_list\n",
        "        self._set_mol_list()\n",
        "        self._set_atom_list()\n",
        "\n",
        "    def __len__(self):\n",
        "        return len(self.smi_list)\n",
        "\n",
        "    def __getitem__(self, idx):\n",
        "        '''\n",
        "        return a dict of {\"input\": input, \"output\": output, \"adj\": adj, \"num_atom\": num_atom}\n",
        "        where input is a float tensor of atom feature matrix,\n",
        "        output is a float tensor of corresponding logp value,\n",
        "        adj is a float tensor of adjacency matrix, and\n",
        "        num_atom is a float tensor of number of atoms.\n",
        "        use self._get_node_feature_matrix, self._get_adjacency_matrix, and self._get_logp.\n",
        "        '''\n",
        "        sample = dict()\n",
        "        mol = self.mol_list[idx]\n",
        "\n",
        "        input = self._get_node_feature_matrix(mol)\n",
        "        adj = self._get_adjacency_matrix(mol)\n",
        "\n",
        "        sample = {\n",
        "                \"input\": torch.LongTensor(input),\n",
        "                \"adj\": torch.Tensor(adj),\n",
        "                \"num_atom\": torch.Tensor([mol.GetNumAtoms()]),\n",
        "                \"output\": torch.Tensor(0)\n",
        "        }\n",
        "        return sample\n",
        "\n",
        "    def _set_mol_list(self):\n",
        "        assert len(self.smi_list) > 0\n",
        "        self.mol_list = [Chem.MolFromSmiles(smi) for smi in self.smi_list]\n",
        "\n",
        "    def _set_atom_list(self, atom_list=None):\n",
        "        assert len(self.mol_list) > 0\n",
        "        if atom_list is not None:\n",
        "            self.atom_list = atom_list\n",
        "        else:\n",
        "            whole_atom = list(reduce(lambda x, y: x | y, \\\n",
        "                    [set([a.GetSymbol() for a in mol.GetAtoms()]) \\\n",
        "                    for mol in self.mol_list]))\n",
        "            self.atom_list = sorted(whole_atom)\n",
        "\n",
        "    def _get_num_atom_feature(self):\n",
        "        assert len(self.atom_list) > 0\n",
        "        return len(self.atom_list)+4\n",
        "\n",
        "    def _get_node_feature_matrix(self, mol):\n",
        "        return np.array([self._get_atom_feature_vector(a) for a in mol.GetAtoms()])\n",
        "\n",
        "    def _get_adjacency_matrix(self, mol):\n",
        "        \"\"\"\n",
        "        return normalized adjacency matrix of a given molecule\n",
        "        use GetAdjacencyMatrix()\n",
        "        \"\"\"\n",
        "        def normalizeAdjacency(adj):\n",
        "            \"\"\"\n",
        "            return a normalized adjacency matrix: D^-1/2 @ (A + I) @ D^-1/2\n",
        "            \"\"\"\n",
        "            assert adj.shape[0] == adj.shape[1]\n",
        "            A = adj + np.eye(adj.shape[0]) # Add self-loop\n",
        "            d = np.sum(A, axis=1) # Degree matrix of (A + I)\n",
        "            d = 1/np.sqrt(d)\n",
        "            D = np.diag(d)\n",
        "            return D @ A @ D\n",
        "        ##########Implement Here!##########\n",
        "        return normalizeAdjacency(GetAdjacencyMatrix(mol))\n",
        "        ###################################\n",
        "\n",
        "    def _get_atom_feature_vector(self, atom):\n",
        "        \"\"\"\n",
        "        return one-hot encoded vector of a given atom\n",
        "        use atom.GetSymbol() and self._get_one_hot_vector()\n",
        "        \"\"\"\n",
        "        ##########Implement Here!##########\n",
        "        sym = self._get_one_hot_vector(self.atom_list.index(atom.GetSymbol()), self._get_num_atom_feature())\n",
        "        val = 1.0*np.array([atom.GetTotalValence()])\n",
        "        n_hydrogen = 1.0*np.array([atom.GetTotalNumHs()])\n",
        "        f_charge = 1.0*np.array([atom.GetFormalCharge()])\n",
        "        if atom.GetIsAromatic():\n",
        "          arom = np.array([1.0,])\n",
        "        else:\n",
        "          arom = np.array([0.0,])\n",
        "\n",
        "        return np.concatenate((sym,val,n_hydrogen,f_charge,arom))\n",
        "        ###################################\n",
        "\n",
        "    def _get_one_hot_vector(self, idx, vec_dim):\n",
        "        return np.eye(vec_dim)[idx]"
      ]
    },
    {
      "cell_type": "code",
      "execution_count": null,
      "metadata": {
        "id": "Rd7qOZZKNoi5"
      },
      "outputs": [],
      "source": [
        "sub_dataset = testdataset(sub_list)\n",
        "sub_dataloader  = DataLoader(sub_dataset,  batch_size=BATCH_SIZE, \\\n",
        "                              shuffle=False, collate_fn=sample_collate_fn)\n",
        "sub_N = len(sub_dataset)\n",
        "ans_list = []"
      ]
    },
    {
      "cell_type": "code",
      "execution_count": null,
      "metadata": {
        "colab": {
          "base_uri": "https://localhost:8080/"
        },
        "id": "yVdiBfjwHZtP",
        "outputId": "e057786b-a4c6-4806-ad21-03576f8d9812"
      },
      "outputs": [
        {
          "name": "stderr",
          "output_type": "stream",
          "text": [
            "5it [00:00, 87.09it/s]               \n",
            "5it [00:00, 109.33it/s]              \n",
            "5it [00:00, 110.31it/s]              \n",
            "5it [00:00, 108.68it/s]              \n",
            "5it [00:00, 107.84it/s]              \n",
            "5it [00:00, 108.58it/s]              \n",
            "5it [00:00, 86.23it/s]               \n",
            "5it [00:00, 95.11it/s]               \n",
            "5it [00:00, 97.59it/s]               \n",
            "5it [00:00, 55.99it/s]               \n",
            "5it [00:00, 74.66it/s]               \n",
            "5it [00:00, 106.68it/s]              \n",
            "5it [00:00, 103.65it/s]              \n",
            "5it [00:00, 105.29it/s]              \n",
            "5it [00:00, 106.34it/s]              \n",
            "5it [00:00, 97.32it/s]               \n",
            "5it [00:00, 104.30it/s]              \n",
            "5it [00:00, 96.62it/s]               \n",
            "5it [00:00, 105.37it/s]              \n",
            "5it [00:00, 106.16it/s]              \n",
            "5it [00:00, 91.17it/s]               \n",
            "5it [00:00, 110.03it/s]              \n",
            "5it [00:00, 109.18it/s]              \n",
            "5it [00:00, 104.25it/s]              \n",
            "5it [00:00, 112.94it/s]              \n",
            "5it [00:00, 108.44it/s]              \n",
            "5it [00:00, 90.30it/s]               \n",
            "5it [00:00, 106.61it/s]              \n",
            "5it [00:00, 103.46it/s]              \n",
            "5it [00:00, 97.93it/s]               \n",
            "5it [00:00, 81.41it/s]               \n",
            "5it [00:00, 54.68it/s]               \n",
            "5it [00:00, 57.98it/s]               \n",
            "5it [00:00, 54.88it/s]               \n",
            "5it [00:00, 50.18it/s]               \n",
            "5it [00:00, 44.67it/s]\n",
            "5it [00:00, 45.84it/s]\n",
            "5it [00:00, 42.38it/s]                       \n",
            "5it [00:00, 36.60it/s]                       \n",
            "5it [00:00, 39.32it/s]                       \n",
            "5it [00:00, 41.08it/s]                       \n",
            "5it [00:00, 37.01it/s]                       \n",
            "5it [00:00, 37.03it/s]                       \n",
            "5it [00:00, 39.32it/s]                       \n",
            "5it [00:00, 35.21it/s]                       \n",
            "5it [00:00, 38.50it/s]                       \n",
            "5it [00:00, 34.37it/s]                       \n",
            "5it [00:00, 35.33it/s]                       \n",
            "5it [00:00, 37.49it/s]                       \n",
            "5it [00:00, 35.30it/s]                       \n",
            "5it [00:00, 37.49it/s]                       \n",
            "5it [00:00, 37.08it/s]                       \n",
            "5it [00:00, 36.41it/s]                       \n",
            "5it [00:00, 32.67it/s]                       \n",
            "5it [00:00, 13.27it/s]\n",
            "5it [00:00, 32.38it/s]                       \n",
            "5it [00:00, 34.23it/s]                       \n",
            "5it [00:00, 31.85it/s]                       \n",
            "5it [00:00, 32.43it/s]                       \n",
            "5it [00:00, 28.37it/s]                       \n",
            "5it [00:00, 30.98it/s]                       \n",
            "5it [00:00, 30.23it/s]                       \n",
            "5it [00:00, 29.42it/s]                       \n",
            "5it [00:00, 27.64it/s]                       \n",
            "5it [00:00, 28.67it/s]                       \n",
            "5it [00:00, 29.79it/s]                       \n",
            "5it [00:00, 28.59it/s]                       \n",
            "5it [00:00, 29.57it/s]                       \n",
            "5it [00:00, 29.00it/s]                       \n",
            "5it [00:00, 28.74it/s]                       \n",
            "5it [00:00, 26.24it/s]                       \n",
            "5it [00:00, 24.45it/s]                       \n",
            "5it [00:00, 26.52it/s]                       \n",
            "5it [00:00, 25.64it/s]                       \n",
            "5it [00:00, 25.74it/s]                       \n",
            "5it [00:00, 24.68it/s]                       \n",
            "5it [00:00, 24.84it/s]                       \n",
            "5it [00:00, 24.18it/s]                       \n",
            "5it [00:00, 24.51it/s]                       \n",
            "5it [00:00, 23.90it/s]                       \n",
            "5it [00:00, 23.03it/s]                       \n",
            "5it [00:00, 22.37it/s]                       \n",
            "5it [00:00, 22.17it/s]                       \n",
            "5it [00:00, 22.15it/s]                       \n",
            "5it [00:00, 21.33it/s]                       \n",
            "5it [00:00, 21.89it/s]                       \n",
            "5it [00:00, 20.84it/s]                       \n",
            "5it [00:00, 20.39it/s]                       \n",
            "5it [00:00, 20.03it/s]                       \n",
            "5it [00:00, 20.68it/s]                       \n",
            "5it [00:00, 19.70it/s]                       \n",
            "5it [00:00, 19.79it/s]                       \n",
            "5it [00:00, 19.35it/s]                       \n",
            "5it [00:00, 18.57it/s]                       \n",
            "5it [00:00, 18.41it/s]                       \n",
            "5it [00:00, 18.28it/s]                       \n",
            "5it [00:00, 17.69it/s]                       \n",
            "5it [00:00, 16.98it/s]                       \n",
            "5it [00:00, 16.62it/s]                       \n",
            "5it [00:00, 16.67it/s]                       \n",
            "5it [00:00, 15.96it/s]                       \n",
            "5it [00:00, 15.75it/s]                       \n",
            "5it [00:00, 15.95it/s]                       \n",
            "5it [00:00, 15.47it/s]                       \n",
            "5it [00:00, 15.43it/s]                       \n",
            "5it [00:00, 16.37it/s]                       \n",
            "5it [00:00, 15.73it/s]                       \n",
            "5it [00:00, 15.43it/s]                       \n",
            "5it [00:00, 15.45it/s]                       \n",
            "5it [00:00, 15.48it/s]                       \n",
            "5it [00:00, 15.24it/s]                       \n",
            "5it [00:00, 15.10it/s]                       \n",
            "5it [00:00, 14.29it/s]                       \n",
            "5it [00:00, 14.27it/s]                       \n",
            "5it [00:00, 13.28it/s]                       \n",
            "5it [00:00, 13.78it/s]                       \n",
            "5it [00:00, 13.22it/s]                       \n",
            "5it [00:00, 14.35it/s]                       \n",
            "5it [00:00, 27.71it/s]                       \n",
            "5it [00:00, 27.51it/s]                       \n",
            "5it [00:00, 29.32it/s]                       \n",
            "5it [00:00, 28.74it/s]                       \n",
            "5it [00:00, 30.70it/s]                       \n",
            "5it [00:00, 26.67it/s]                       \n",
            "5it [00:00, 28.76it/s]                       \n",
            "5it [00:00, 28.10it/s]                       \n",
            "5it [00:00, 27.23it/s]                       \n",
            "5it [00:00, 26.99it/s]                       \n",
            "5it [00:00, 26.74it/s]                       \n",
            "5it [00:00, 26.76it/s]                       \n",
            "5it [00:00, 26.62it/s]                       \n",
            "5it [00:00, 26.76it/s]                       \n",
            "5it [00:00, 26.66it/s]                       \n",
            "5it [00:00, 26.31it/s]                       \n",
            "5it [00:00, 25.81it/s]                       \n",
            "5it [00:00, 24.27it/s]                       \n",
            "5it [00:00, 26.68it/s]                       \n",
            "5it [00:00, 27.32it/s]                       \n",
            "5it [00:00, 28.08it/s]                       \n",
            "5it [00:00, 29.79it/s]                       \n",
            "5it [00:00, 27.65it/s]                       \n",
            "5it [00:00, 28.06it/s]                       \n",
            "5it [00:00, 27.95it/s]                       \n",
            "5it [00:00, 27.95it/s]                       \n",
            "5it [00:00, 26.29it/s]                       \n",
            "5it [00:00, 26.82it/s]                       \n",
            "5it [00:00, 27.02it/s]                       \n",
            "5it [00:00, 29.67it/s]                       \n",
            "5it [00:00, 27.40it/s]                       \n",
            "5it [00:00, 26.33it/s]                       \n",
            "5it [00:00, 28.17it/s]                       \n",
            "5it [00:00, 26.89it/s]                       \n",
            "5it [00:00, 26.22it/s]                       \n",
            "5it [00:00, 27.77it/s]                       \n",
            "5it [00:00, 26.00it/s]                       \n",
            "5it [00:00, 25.59it/s]                       \n",
            "5it [00:00, 25.13it/s]                       \n",
            "5it [00:00, 24.52it/s]                       \n",
            "5it [00:00, 24.18it/s]                       \n",
            "5it [00:00, 22.24it/s]                       \n",
            "5it [00:00, 23.73it/s]                       \n",
            "5it [00:00, 24.30it/s]                       \n",
            "5it [00:00, 24.78it/s]                       \n",
            "5it [00:00, 24.74it/s]                       \n",
            "5it [00:00, 24.02it/s]                       \n",
            "5it [00:00, 23.89it/s]                       \n",
            "5it [00:00, 21.62it/s]                       \n",
            "5it [00:00, 21.24it/s]                       \n",
            "5it [00:00, 23.39it/s]                       \n",
            "5it [00:00, 24.10it/s]                       \n",
            "5it [00:00, 23.75it/s]                       \n",
            "5it [00:00, 23.23it/s]\n",
            "5it [00:00, 23.38it/s]                       \n",
            "5it [00:00, 22.96it/s]                       \n",
            "5it [00:00, 21.42it/s]                       \n",
            "5it [00:00, 21.53it/s]                       \n",
            "5it [00:00, 21.08it/s]                       \n",
            "5it [00:00, 20.61it/s]                       \n",
            "5it [00:00, 20.19it/s]                       \n",
            "5it [00:00, 19.35it/s]                       \n",
            "5it [00:00, 19.49it/s]                       \n",
            "5it [00:00, 19.36it/s]                       \n",
            "5it [00:00, 18.93it/s]                       \n",
            "5it [00:00, 18.94it/s]                       \n",
            "5it [00:00, 19.31it/s]                       \n",
            "5it [00:00, 18.24it/s]                       \n",
            "5it [00:00, 18.30it/s]                       \n",
            "5it [00:00, 18.63it/s]                       \n",
            "5it [00:00, 18.10it/s]                       \n",
            "5it [00:00, 17.78it/s]                       \n",
            "5it [00:00, 17.96it/s]                       \n",
            "5it [00:00, 16.48it/s]                       \n",
            "5it [00:00, 16.96it/s]                       \n",
            "5it [00:00, 16.62it/s]                       \n",
            "5it [00:00, 15.96it/s]                       \n",
            "5it [00:00, 15.95it/s]                       \n",
            "5it [00:00, 17.92it/s]                       \n",
            "5it [00:00, 17.99it/s]                       \n",
            "5it [00:00, 17.28it/s]                       \n",
            "5it [00:00, 16.84it/s]                       \n",
            "5it [00:00, 17.03it/s]                       \n",
            "5it [00:00, 16.38it/s]                       \n",
            "5it [00:00, 16.73it/s]                       \n",
            "5it [00:00, 16.70it/s]                       \n",
            "5it [00:00, 16.54it/s]                       \n",
            "5it [00:00, 16.41it/s]                       \n",
            "5it [00:00, 16.93it/s]                       \n",
            "5it [00:00, 16.76it/s]                       \n",
            "5it [00:00, 16.50it/s]                       \n",
            "5it [00:00, 16.27it/s]                       \n",
            "5it [00:00, 14.76it/s]                       \n",
            "5it [00:00, 15.45it/s]                       \n",
            "5it [00:00, 15.70it/s]                       \n",
            "5it [00:00, 15.52it/s]                       \n",
            "5it [00:00, 16.33it/s]                       \n",
            "5it [00:00, 17.21it/s]                       \n",
            "5it [00:00, 16.43it/s]                       \n",
            "5it [00:00, 16.43it/s]                       \n",
            "5it [00:00, 16.09it/s]                       \n",
            "5it [00:00, 16.14it/s]                       \n",
            "5it [00:00, 15.95it/s]                       \n",
            "5it [00:00, 15.62it/s]                       \n",
            "5it [00:00, 15.08it/s]                       \n",
            "5it [00:00, 14.94it/s]                       \n",
            "5it [00:00, 15.96it/s]                       \n",
            "5it [00:00, 16.01it/s]                       \n",
            "5it [00:00, 15.89it/s]                       \n",
            "5it [00:00, 15.72it/s]                       \n",
            "5it [00:00, 15.11it/s]                       \n",
            "5it [00:00, 15.27it/s]                       \n",
            "5it [00:00, 15.06it/s]                       \n",
            "5it [00:00, 14.79it/s]                       \n",
            "5it [00:00, 15.41it/s]                       \n",
            "5it [00:00, 15.20it/s]                       \n",
            "5it [00:00, 16.16it/s]                       \n",
            "5it [00:00, 15.95it/s]                       \n",
            "5it [00:00, 16.84it/s]                       \n",
            "5it [00:00, 18.48it/s]                       \n",
            "5it [00:00, 19.74it/s]                       \n",
            "5it [00:00, 19.42it/s]                       \n",
            "5it [00:00, 18.16it/s]                       \n",
            "5it [00:00, 18.79it/s]                       \n",
            "5it [00:00, 18.02it/s]                       \n",
            "5it [00:00, 17.50it/s]                       \n",
            "5it [00:00, 18.07it/s]                       \n",
            "5it [00:00, 18.12it/s]                       \n",
            "5it [00:00, 17.71it/s]                       \n",
            "5it [00:00, 18.13it/s]                       \n",
            "5it [00:00, 17.93it/s]                       \n",
            "5it [00:00, 17.73it/s]                       \n",
            "5it [00:00, 16.81it/s]                       \n",
            "5it [00:00, 16.58it/s]                       \n",
            "5it [00:00, 16.90it/s]                       \n",
            "5it [00:00, 16.27it/s]                       \n",
            "5it [00:00, 16.54it/s]                       \n",
            "5it [00:00, 16.75it/s]                       \n",
            "5it [00:00, 16.42it/s]                       \n",
            "5it [00:00, 16.11it/s]                       \n",
            "5it [00:00, 15.90it/s]                       \n",
            "5it [00:00, 15.40it/s]                       \n",
            "5it [00:00, 16.31it/s]                       \n",
            "5it [00:00, 15.90it/s]                       \n",
            "5it [00:00, 15.39it/s]                       \n",
            "5it [00:00, 15.63it/s]                       \n",
            "5it [00:00, 15.07it/s]                       \n",
            "5it [00:00, 14.68it/s]                       \n",
            "5it [00:00, 15.18it/s]                       \n",
            "5it [00:00, 14.58it/s]                       \n",
            "5it [00:00, 14.46it/s]                       \n",
            "5it [00:00, 14.45it/s]                       \n",
            "5it [00:00, 14.08it/s]                       \n",
            "5it [00:00, 14.18it/s]                       \n",
            "5it [00:00, 13.84it/s]                       \n",
            "5it [00:00, 14.20it/s]                       \n",
            "5it [00:00, 14.14it/s]                       \n",
            "5it [00:00, 14.60it/s]                       \n",
            "5it [00:00, 14.43it/s]                       \n",
            "5it [00:00, 14.57it/s]                       \n",
            "5it [00:00, 14.20it/s]                       \n",
            "5it [00:00, 13.97it/s]                       \n",
            "5it [00:00, 13.71it/s]                       \n",
            "5it [00:00, 13.68it/s]                       \n",
            "5it [00:00, 13.40it/s]                       \n",
            "5it [00:00, 12.84it/s]                       \n",
            "5it [00:00, 12.93it/s]                       \n",
            "5it [00:00, 12.82it/s]                       \n",
            "5it [00:00, 13.28it/s]                       \n",
            "5it [00:00, 13.00it/s]                       \n",
            "5it [00:00, 12.83it/s]                       \n",
            "5it [00:00, 12.84it/s]                       \n",
            "5it [00:00, 13.01it/s]                       \n",
            "5it [00:00, 13.06it/s]                       \n",
            "5it [00:00, 13.35it/s]                       \n",
            "5it [00:00, 13.60it/s]                       \n",
            "5it [00:00, 13.61it/s]                       \n",
            "5it [00:00, 13.56it/s]                       \n",
            "5it [00:00, 13.87it/s]                       \n",
            "5it [00:00, 13.18it/s]                       \n",
            "5it [00:00, 13.25it/s]                       \n",
            "5it [00:00, 13.04it/s]                       \n"
          ]
        }
      ],
      "source": [
        "for i in range(1,301):\n",
        "  save_state_dict = torch.load(os.path.join(save_dir, f\"save_{i}.pt\"),map_location=torch.device('cpu'))\n",
        "  model.load_state_dict(save_state_dict)\n",
        "  model.eval()\n",
        "  ans_list = []\n",
        "  with torch.no_grad():\n",
        "      test_batch_losses = []\n",
        "      for batch_idx, batch in tqdm(enumerate(sub_dataloader), total=sub_N // BATCH_SIZE):\n",
        "          batch = batch_to_device(batch, device)\n",
        "          x_batch = batch[\"input\"].float()\n",
        "          y_batch = batch[\"output\"].float()\n",
        "          adj_batch = batch[\"adj\"].float()\n",
        "\n",
        "          y_pred = model(x_batch, adj_batch)\n",
        "\n",
        "          ans_list.append(y_pred)\n",
        "  with open(f'public_sub_dropout0.5_L2bigwo-reg_L2_{i}.csv', 'w') as file:\n",
        "    file.write(\"index,pkbhx\\n\")\n",
        "    j = 386\n",
        "    for listt in ans_list:\n",
        "      for num in listt:\n",
        "        file.write(f\"{j},{str(float(num))}\\n\")\n",
        "        j = j+1\n",
        "        if j == 420:\n",
        "          break"
      ]
    },
    {
      "cell_type": "code",
      "execution_count": null,
      "metadata": {
        "colab": {
          "base_uri": "https://localhost:8080/"
        },
        "id": "u0UdOsRAedjA",
        "outputId": "fbe4df69-0335-4e62-a3f3-50990fb43453"
      },
      "outputs": [
        {
          "data": {
            "text/plain": [
              "<All keys matched successfully>"
            ]
          },
          "execution_count": 43,
          "metadata": {},
          "output_type": "execute_result"
        }
      ],
      "source": [
        "save_dir = \"./dropout_wo-reg_L2/\"\n",
        "save_state_dict = torch.load(os.path.join(save_dir, f\"save_300.pt\"),map_location=torch.device('cpu'))\n",
        "model.load_state_dict(save_state_dict)"
      ]
    }
  ],
  "metadata": {
    "accelerator": "GPU",
    "colab": {
      "provenance": []
    },
    "gpuClass": "standard",
    "kernelspec": {
      "display_name": "Python 3",
      "name": "python3"
    },
    "language_info": {
      "name": "python"
    }
  },
  "nbformat": 4,
  "nbformat_minor": 0
}
